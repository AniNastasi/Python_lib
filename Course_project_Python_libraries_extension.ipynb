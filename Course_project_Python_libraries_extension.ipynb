{
 "cells": [
  {
   "cell_type": "markdown",
   "id": "0cb8fc87",
   "metadata": {},
   "source": [
    "# Course project"
   ]
  },
  {
   "cell_type": "code",
   "execution_count": 2,
   "id": "1fe497a1",
   "metadata": {},
   "outputs": [],
   "source": [
    "# !pip install xgboost\n",
    "# !pip install lightgbm\n",
    "# !pip install catboost"
   ]
  },
  {
   "cell_type": "code",
   "execution_count": 1,
   "id": "d4050d47",
   "metadata": {},
   "outputs": [],
   "source": [
    "import pandas as pd\n",
    "import numpy as np\n",
    "import pickle\n",
    "import random\n",
    "\n",
    "from sklearn.preprocessing import StandardScaler, MinMaxScaler\n",
    "from sklearn.model_selection import train_test_split, ShuffleSplit, cross_val_score, learning_curve\n",
    "from sklearn.model_selection import KFold, GridSearchCV, RandomizedSearchCV\n",
    "from sklearn.metrics import classification_report, f1_score, precision_score, recall_score\n",
    "\n",
    "from sklearn.linear_model import LogisticRegression\n",
    "from sklearn.neighbors import KNeighborsClassifier\n",
    "import seaborn as sns\n",
    "from matplotlib import pyplot as plt\n",
    "%matplotlib inline"
   ]
  },
  {
   "cell_type": "code",
   "execution_count": 2,
   "id": "c3349ea1",
   "metadata": {},
   "outputs": [],
   "source": [
    "import xgboost as xgb\n",
    "import catboost as catb\n",
    "import lightgbm as lgbm"
   ]
  },
  {
   "cell_type": "code",
   "execution_count": 3,
   "id": "71345a2f",
   "metadata": {},
   "outputs": [],
   "source": [
    "from xgboost import XGBClassifier\n",
    "from catboost import CatBoostClassifier, CatBoostRegressor, Pool"
   ]
  },
  {
   "cell_type": "code",
   "execution_count": 4,
   "id": "6a7eb1fb",
   "metadata": {},
   "outputs": [],
   "source": [
    "# input\n",
    "TRAIN_DATASET_PATH = 'D:/study/DataScience/Python/CourseWork/course_project_train.csv'\n",
    "TEST_DATASET_PATH = 'D:/study/DataScience/Python/CourseWork/course_project_test.csv'\n",
    "\n",
    "#output\n",
    "PREP_DATASET_PATH = 'D:/study/DataScience/Python/CourseWork/project_preprocessing.csv'\n",
    "TRAIN_FULL_PATH = 'D:/study/DataScience/Python/CourseWork/project_train_full.csv'\n",
    "TRAIN_PART_PATH = 'D:/study/DataScience/Python/CourseWork/project_train_split.csv'\n",
    "VALID_PART_PATH = 'D:/study/DataScience/Python/CourseWork/project_valid.csv'\n",
    "PREP_TEST = 'D:/study/DataScience/Python/CourseWork/project_prep_test.csv'"
   ]
  },
  {
   "cell_type": "markdown",
   "id": "afdffaf4",
   "metadata": {},
   "source": [
    "## Обзор данных"
   ]
  },
  {
   "cell_type": "code",
   "execution_count": 5,
   "id": "05c293ff",
   "metadata": {
    "scrolled": true
   },
   "outputs": [
    {
     "data": {
      "text/html": [
       "<div>\n",
       "<style scoped>\n",
       "    .dataframe tbody tr th:only-of-type {\n",
       "        vertical-align: middle;\n",
       "    }\n",
       "\n",
       "    .dataframe tbody tr th {\n",
       "        vertical-align: top;\n",
       "    }\n",
       "\n",
       "    .dataframe thead th {\n",
       "        text-align: right;\n",
       "    }\n",
       "</style>\n",
       "<table border=\"1\" class=\"dataframe\">\n",
       "  <thead>\n",
       "    <tr style=\"text-align: right;\">\n",
       "      <th></th>\n",
       "      <th>Home Ownership</th>\n",
       "      <th>Annual Income</th>\n",
       "      <th>Years in current job</th>\n",
       "      <th>Tax Liens</th>\n",
       "      <th>Number of Open Accounts</th>\n",
       "      <th>Years of Credit History</th>\n",
       "      <th>Maximum Open Credit</th>\n",
       "      <th>Number of Credit Problems</th>\n",
       "      <th>Months since last delinquent</th>\n",
       "      <th>Bankruptcies</th>\n",
       "      <th>Purpose</th>\n",
       "      <th>Term</th>\n",
       "      <th>Current Loan Amount</th>\n",
       "      <th>Current Credit Balance</th>\n",
       "      <th>Monthly Debt</th>\n",
       "      <th>Credit Score</th>\n",
       "      <th>Credit Default</th>\n",
       "    </tr>\n",
       "  </thead>\n",
       "  <tbody>\n",
       "    <tr>\n",
       "      <th>0</th>\n",
       "      <td>Own Home</td>\n",
       "      <td>482087.0</td>\n",
       "      <td>NaN</td>\n",
       "      <td>0.0</td>\n",
       "      <td>11.0</td>\n",
       "      <td>26.3</td>\n",
       "      <td>685960.0</td>\n",
       "      <td>1.0</td>\n",
       "      <td>NaN</td>\n",
       "      <td>1.0</td>\n",
       "      <td>debt consolidation</td>\n",
       "      <td>Short Term</td>\n",
       "      <td>99999999.0</td>\n",
       "      <td>47386.0</td>\n",
       "      <td>7914.0</td>\n",
       "      <td>749.0</td>\n",
       "      <td>0</td>\n",
       "    </tr>\n",
       "    <tr>\n",
       "      <th>1</th>\n",
       "      <td>Own Home</td>\n",
       "      <td>1025487.0</td>\n",
       "      <td>10+ years</td>\n",
       "      <td>0.0</td>\n",
       "      <td>15.0</td>\n",
       "      <td>15.3</td>\n",
       "      <td>1181730.0</td>\n",
       "      <td>0.0</td>\n",
       "      <td>NaN</td>\n",
       "      <td>0.0</td>\n",
       "      <td>debt consolidation</td>\n",
       "      <td>Long Term</td>\n",
       "      <td>264968.0</td>\n",
       "      <td>394972.0</td>\n",
       "      <td>18373.0</td>\n",
       "      <td>737.0</td>\n",
       "      <td>1</td>\n",
       "    </tr>\n",
       "    <tr>\n",
       "      <th>2</th>\n",
       "      <td>Home Mortgage</td>\n",
       "      <td>751412.0</td>\n",
       "      <td>8 years</td>\n",
       "      <td>0.0</td>\n",
       "      <td>11.0</td>\n",
       "      <td>35.0</td>\n",
       "      <td>1182434.0</td>\n",
       "      <td>0.0</td>\n",
       "      <td>NaN</td>\n",
       "      <td>0.0</td>\n",
       "      <td>debt consolidation</td>\n",
       "      <td>Short Term</td>\n",
       "      <td>99999999.0</td>\n",
       "      <td>308389.0</td>\n",
       "      <td>13651.0</td>\n",
       "      <td>742.0</td>\n",
       "      <td>0</td>\n",
       "    </tr>\n",
       "    <tr>\n",
       "      <th>3</th>\n",
       "      <td>Own Home</td>\n",
       "      <td>805068.0</td>\n",
       "      <td>6 years</td>\n",
       "      <td>0.0</td>\n",
       "      <td>8.0</td>\n",
       "      <td>22.5</td>\n",
       "      <td>147400.0</td>\n",
       "      <td>1.0</td>\n",
       "      <td>NaN</td>\n",
       "      <td>1.0</td>\n",
       "      <td>debt consolidation</td>\n",
       "      <td>Short Term</td>\n",
       "      <td>121396.0</td>\n",
       "      <td>95855.0</td>\n",
       "      <td>11338.0</td>\n",
       "      <td>694.0</td>\n",
       "      <td>0</td>\n",
       "    </tr>\n",
       "    <tr>\n",
       "      <th>4</th>\n",
       "      <td>Rent</td>\n",
       "      <td>776264.0</td>\n",
       "      <td>8 years</td>\n",
       "      <td>0.0</td>\n",
       "      <td>13.0</td>\n",
       "      <td>13.6</td>\n",
       "      <td>385836.0</td>\n",
       "      <td>1.0</td>\n",
       "      <td>NaN</td>\n",
       "      <td>0.0</td>\n",
       "      <td>debt consolidation</td>\n",
       "      <td>Short Term</td>\n",
       "      <td>125840.0</td>\n",
       "      <td>93309.0</td>\n",
       "      <td>7180.0</td>\n",
       "      <td>719.0</td>\n",
       "      <td>0</td>\n",
       "    </tr>\n",
       "  </tbody>\n",
       "</table>\n",
       "</div>"
      ],
      "text/plain": [
       "  Home Ownership  Annual Income Years in current job  Tax Liens  \\\n",
       "0       Own Home       482087.0                  NaN        0.0   \n",
       "1       Own Home      1025487.0            10+ years        0.0   \n",
       "2  Home Mortgage       751412.0              8 years        0.0   \n",
       "3       Own Home       805068.0              6 years        0.0   \n",
       "4           Rent       776264.0              8 years        0.0   \n",
       "\n",
       "   Number of Open Accounts  Years of Credit History  Maximum Open Credit  \\\n",
       "0                     11.0                     26.3             685960.0   \n",
       "1                     15.0                     15.3            1181730.0   \n",
       "2                     11.0                     35.0            1182434.0   \n",
       "3                      8.0                     22.5             147400.0   \n",
       "4                     13.0                     13.6             385836.0   \n",
       "\n",
       "   Number of Credit Problems  Months since last delinquent  Bankruptcies  \\\n",
       "0                        1.0                           NaN           1.0   \n",
       "1                        0.0                           NaN           0.0   \n",
       "2                        0.0                           NaN           0.0   \n",
       "3                        1.0                           NaN           1.0   \n",
       "4                        1.0                           NaN           0.0   \n",
       "\n",
       "              Purpose        Term  Current Loan Amount  \\\n",
       "0  debt consolidation  Short Term           99999999.0   \n",
       "1  debt consolidation   Long Term             264968.0   \n",
       "2  debt consolidation  Short Term           99999999.0   \n",
       "3  debt consolidation  Short Term             121396.0   \n",
       "4  debt consolidation  Short Term             125840.0   \n",
       "\n",
       "   Current Credit Balance  Monthly Debt  Credit Score  Credit Default  \n",
       "0                 47386.0        7914.0         749.0               0  \n",
       "1                394972.0       18373.0         737.0               1  \n",
       "2                308389.0       13651.0         742.0               0  \n",
       "3                 95855.0       11338.0         694.0               0  \n",
       "4                 93309.0        7180.0         719.0               0  "
      ]
     },
     "execution_count": 5,
     "metadata": {},
     "output_type": "execute_result"
    }
   ],
   "source": [
    "df = pd.read_csv(TRAIN_DATASET_PATH)\n",
    "df.head()"
   ]
  },
  {
   "cell_type": "markdown",
   "id": "3bb4a10a",
   "metadata": {},
   "source": [
    "**Описание датасета**\n",
    "\n",
    "* **Home Ownership** - домовладение\n",
    "* **Annual Income** - годовой доход\n",
    "* **Years in current job** - количество лет на текущем месте работы\n",
    "* **Tax Liens** - налоговые обременения\n",
    "* **Number of Open Accounts** - количество открытых счетов\n",
    "* **Years of Credit History** - количество лет кредитной истории\n",
    "* **Maximum Open Credit** - наибольший открытый кредит\n",
    "* **Number of Credit Problems** - количество проблем с кредитом\n",
    "* **Months since last delinquent** - количество месяцев с последней просрочки платежа\n",
    "* **Bankruptcies** - банкротства\n",
    "* **Purpose** - цель кредита\n",
    "* **Term** - срок кредита\n",
    "* **Current Loan Amount** - текущая сумма кредита\n",
    "* **Current Credit Balance** - текущий кредитный баланс\n",
    "* **Monthly Debt** - ежемесячный долг\n",
    "* **Credit Default** - факт невыполнения кредитных обязательств (0 - погашен вовремя, 1 - просрочка)"
   ]
  },
  {
   "cell_type": "code",
   "execution_count": 6,
   "id": "8b8e6607",
   "metadata": {},
   "outputs": [
    {
     "data": {
      "text/plain": [
       "0    5387\n",
       "1    2113\n",
       "Name: Credit Default, dtype: int64"
      ]
     },
     "execution_count": 6,
     "metadata": {},
     "output_type": "execute_result"
    }
   ],
   "source": [
    "df['Credit Default'].value_counts()"
   ]
  },
  {
   "cell_type": "code",
   "execution_count": 7,
   "id": "680099a5",
   "metadata": {},
   "outputs": [
    {
     "data": {
      "image/png": "[encoded data removed]",
      "text/plain": [
       "<Figure size 720x576 with 1 Axes>"
      ]
     },
     "metadata": {
      "needs_background": "light"
     },
     "output_type": "display_data"
    }
   ],
   "source": [
    "corr_with_target = df.corr().iloc[:-1, -1].sort_values(ascending=False)\n",
    "\n",
    "plt.figure(figsize=(10, 8))\n",
    "\n",
    "sns.barplot(x=corr_with_target.values, y=corr_with_target.index)\n",
    "\n",
    "plt.title('Correlation with target variable')\n",
    "plt.show()"
   ]
  },
  {
   "cell_type": "markdown",
   "id": "f585e4a7",
   "metadata": {},
   "source": [
    "Особое внимание при предобработке данных стоит обратить на 'Credit score', 'Annual Income' и 'Current Loan Amount', так как они наиболее сильно коррелируют с целевой переменной"
   ]
  },
  {
   "cell_type": "code",
   "execution_count": 8,
   "id": "a34f5362",
   "metadata": {},
   "outputs": [
    {
     "name": "stdout",
     "output_type": "stream",
     "text": [
      "<class 'pandas.core.frame.DataFrame'>\n",
      "RangeIndex: 7500 entries, 0 to 7499\n",
      "Data columns (total 17 columns):\n",
      " #   Column                        Non-Null Count  Dtype  \n",
      "---  ------                        --------------  -----  \n",
      " 0   Home Ownership                7500 non-null   object \n",
      " 1   Annual Income                 5943 non-null   float64\n",
      " 2   Years in current job          7129 non-null   object \n",
      " 3   Tax Liens                     7500 non-null   float64\n",
      " 4   Number of Open Accounts       7500 non-null   float64\n",
      " 5   Years of Credit History       7500 non-null   float64\n",
      " 6   Maximum Open Credit           7500 non-null   float64\n",
      " 7   Number of Credit Problems     7500 non-null   float64\n",
      " 8   Months since last delinquent  3419 non-null   float64\n",
      " 9   Bankruptcies                  7486 non-null   float64\n",
      " 10  Purpose                       7500 non-null   object \n",
      " 11  Term                          7500 non-null   object \n",
      " 12  Current Loan Amount           7500 non-null   float64\n",
      " 13  Current Credit Balance        7500 non-null   float64\n",
      " 14  Monthly Debt                  7500 non-null   float64\n",
      " 15  Credit Score                  5943 non-null   float64\n",
      " 16  Credit Default                7500 non-null   int64  \n",
      "dtypes: float64(12), int64(1), object(4)\n",
      "memory usage: 2.7 MB\n"
     ]
    }
   ],
   "source": [
    "df.info(memory_usage='deep')"
   ]
  },
  {
   "cell_type": "code",
   "execution_count": 9,
   "id": "88f40817",
   "metadata": {},
   "outputs": [
    {
     "data": {
      "text/html": [
       "<div>\n",
       "<style scoped>\n",
       "    .dataframe tbody tr th:only-of-type {\n",
       "        vertical-align: middle;\n",
       "    }\n",
       "\n",
       "    .dataframe tbody tr th {\n",
       "        vertical-align: top;\n",
       "    }\n",
       "\n",
       "    .dataframe thead th {\n",
       "        text-align: right;\n",
       "    }\n",
       "</style>\n",
       "<table border=\"1\" class=\"dataframe\">\n",
       "  <thead>\n",
       "    <tr style=\"text-align: right;\">\n",
       "      <th></th>\n",
       "      <th>Annual Income</th>\n",
       "      <th>Tax Liens</th>\n",
       "      <th>Number of Open Accounts</th>\n",
       "      <th>Years of Credit History</th>\n",
       "      <th>Maximum Open Credit</th>\n",
       "      <th>Number of Credit Problems</th>\n",
       "      <th>Months since last delinquent</th>\n",
       "      <th>Bankruptcies</th>\n",
       "      <th>Current Loan Amount</th>\n",
       "      <th>Current Credit Balance</th>\n",
       "      <th>Monthly Debt</th>\n",
       "      <th>Credit Score</th>\n",
       "      <th>Credit Default</th>\n",
       "    </tr>\n",
       "  </thead>\n",
       "  <tbody>\n",
       "    <tr>\n",
       "      <th>count</th>\n",
       "      <td>5.943000e+03</td>\n",
       "      <td>7500.000000</td>\n",
       "      <td>7500.000000</td>\n",
       "      <td>7500.000000</td>\n",
       "      <td>7.500000e+03</td>\n",
       "      <td>7500.000000</td>\n",
       "      <td>3419.000000</td>\n",
       "      <td>7486.000000</td>\n",
       "      <td>7.500000e+03</td>\n",
       "      <td>7.500000e+03</td>\n",
       "      <td>7500.000000</td>\n",
       "      <td>5943.000000</td>\n",
       "      <td>7500.000000</td>\n",
       "    </tr>\n",
       "    <tr>\n",
       "      <th>mean</th>\n",
       "      <td>1.366392e+06</td>\n",
       "      <td>0.030133</td>\n",
       "      <td>11.130933</td>\n",
       "      <td>18.317467</td>\n",
       "      <td>9.451537e+05</td>\n",
       "      <td>0.170000</td>\n",
       "      <td>34.692600</td>\n",
       "      <td>0.117152</td>\n",
       "      <td>1.187318e+07</td>\n",
       "      <td>2.898332e+05</td>\n",
       "      <td>18314.454133</td>\n",
       "      <td>1151.087498</td>\n",
       "      <td>0.281733</td>\n",
       "    </tr>\n",
       "    <tr>\n",
       "      <th>std</th>\n",
       "      <td>8.453392e+05</td>\n",
       "      <td>0.271604</td>\n",
       "      <td>4.908924</td>\n",
       "      <td>7.041946</td>\n",
       "      <td>1.602622e+07</td>\n",
       "      <td>0.498598</td>\n",
       "      <td>21.688806</td>\n",
       "      <td>0.347192</td>\n",
       "      <td>3.192612e+07</td>\n",
       "      <td>3.178714e+05</td>\n",
       "      <td>11926.764673</td>\n",
       "      <td>1604.451418</td>\n",
       "      <td>0.449874</td>\n",
       "    </tr>\n",
       "    <tr>\n",
       "      <th>min</th>\n",
       "      <td>1.645970e+05</td>\n",
       "      <td>0.000000</td>\n",
       "      <td>2.000000</td>\n",
       "      <td>4.000000</td>\n",
       "      <td>0.000000e+00</td>\n",
       "      <td>0.000000</td>\n",
       "      <td>0.000000</td>\n",
       "      <td>0.000000</td>\n",
       "      <td>1.124200e+04</td>\n",
       "      <td>0.000000e+00</td>\n",
       "      <td>0.000000</td>\n",
       "      <td>585.000000</td>\n",
       "      <td>0.000000</td>\n",
       "    </tr>\n",
       "    <tr>\n",
       "      <th>25%</th>\n",
       "      <td>8.443410e+05</td>\n",
       "      <td>0.000000</td>\n",
       "      <td>8.000000</td>\n",
       "      <td>13.500000</td>\n",
       "      <td>2.792295e+05</td>\n",
       "      <td>0.000000</td>\n",
       "      <td>16.000000</td>\n",
       "      <td>0.000000</td>\n",
       "      <td>1.801690e+05</td>\n",
       "      <td>1.142565e+05</td>\n",
       "      <td>10067.500000</td>\n",
       "      <td>711.000000</td>\n",
       "      <td>0.000000</td>\n",
       "    </tr>\n",
       "    <tr>\n",
       "      <th>50%</th>\n",
       "      <td>1.168386e+06</td>\n",
       "      <td>0.000000</td>\n",
       "      <td>10.000000</td>\n",
       "      <td>17.000000</td>\n",
       "      <td>4.781590e+05</td>\n",
       "      <td>0.000000</td>\n",
       "      <td>32.000000</td>\n",
       "      <td>0.000000</td>\n",
       "      <td>3.095730e+05</td>\n",
       "      <td>2.093230e+05</td>\n",
       "      <td>16076.500000</td>\n",
       "      <td>731.000000</td>\n",
       "      <td>0.000000</td>\n",
       "    </tr>\n",
       "    <tr>\n",
       "      <th>75%</th>\n",
       "      <td>1.640137e+06</td>\n",
       "      <td>0.000000</td>\n",
       "      <td>14.000000</td>\n",
       "      <td>21.800000</td>\n",
       "      <td>7.935015e+05</td>\n",
       "      <td>0.000000</td>\n",
       "      <td>50.000000</td>\n",
       "      <td>0.000000</td>\n",
       "      <td>5.198820e+05</td>\n",
       "      <td>3.604062e+05</td>\n",
       "      <td>23818.000000</td>\n",
       "      <td>743.000000</td>\n",
       "      <td>1.000000</td>\n",
       "    </tr>\n",
       "    <tr>\n",
       "      <th>max</th>\n",
       "      <td>1.014934e+07</td>\n",
       "      <td>7.000000</td>\n",
       "      <td>43.000000</td>\n",
       "      <td>57.700000</td>\n",
       "      <td>1.304726e+09</td>\n",
       "      <td>7.000000</td>\n",
       "      <td>118.000000</td>\n",
       "      <td>4.000000</td>\n",
       "      <td>1.000000e+08</td>\n",
       "      <td>6.506797e+06</td>\n",
       "      <td>136679.000000</td>\n",
       "      <td>7510.000000</td>\n",
       "      <td>1.000000</td>\n",
       "    </tr>\n",
       "  </tbody>\n",
       "</table>\n",
       "</div>"
      ],
      "text/plain": [
       "       Annual Income    Tax Liens  Number of Open Accounts  \\\n",
       "count   5.943000e+03  7500.000000              7500.000000   \n",
       "mean    1.366392e+06     0.030133                11.130933   \n",
       "std     8.453392e+05     0.271604                 4.908924   \n",
       "min     1.645970e+05     0.000000                 2.000000   \n",
       "25%     8.443410e+05     0.000000                 8.000000   \n",
       "50%     1.168386e+06     0.000000                10.000000   \n",
       "75%     1.640137e+06     0.000000                14.000000   \n",
       "max     1.014934e+07     7.000000                43.000000   \n",
       "\n",
       "       Years of Credit History  Maximum Open Credit  \\\n",
       "count              7500.000000         7.500000e+03   \n",
       "mean                 18.317467         9.451537e+05   \n",
       "std                   7.041946         1.602622e+07   \n",
       "min                   4.000000         0.000000e+00   \n",
       "25%                  13.500000         2.792295e+05   \n",
       "50%                  17.000000         4.781590e+05   \n",
       "75%                  21.800000         7.935015e+05   \n",
       "max                  57.700000         1.304726e+09   \n",
       "\n",
       "       Number of Credit Problems  Months since last delinquent  Bankruptcies  \\\n",
       "count                7500.000000                   3419.000000   7486.000000   \n",
       "mean                    0.170000                     34.692600      0.117152   \n",
       "std                     0.498598                     21.688806      0.347192   \n",
       "min                     0.000000                      0.000000      0.000000   \n",
       "25%                     0.000000                     16.000000      0.000000   \n",
       "50%                     0.000000                     32.000000      0.000000   \n",
       "75%                     0.000000                     50.000000      0.000000   \n",
       "max                     7.000000                    118.000000      4.000000   \n",
       "\n",
       "       Current Loan Amount  Current Credit Balance   Monthly Debt  \\\n",
       "count         7.500000e+03            7.500000e+03    7500.000000   \n",
       "mean          1.187318e+07            2.898332e+05   18314.454133   \n",
       "std           3.192612e+07            3.178714e+05   11926.764673   \n",
       "min           1.124200e+04            0.000000e+00       0.000000   \n",
       "25%           1.801690e+05            1.142565e+05   10067.500000   \n",
       "50%           3.095730e+05            2.093230e+05   16076.500000   \n",
       "75%           5.198820e+05            3.604062e+05   23818.000000   \n",
       "max           1.000000e+08            6.506797e+06  136679.000000   \n",
       "\n",
       "       Credit Score  Credit Default  \n",
       "count   5943.000000     7500.000000  \n",
       "mean    1151.087498        0.281733  \n",
       "std     1604.451418        0.449874  \n",
       "min      585.000000        0.000000  \n",
       "25%      711.000000        0.000000  \n",
       "50%      731.000000        0.000000  \n",
       "75%      743.000000        1.000000  \n",
       "max     7510.000000        1.000000  "
      ]
     },
     "execution_count": 9,
     "metadata": {},
     "output_type": "execute_result"
    }
   ],
   "source": [
    "df.describe()"
   ]
  },
  {
   "cell_type": "markdown",
   "id": "5475e4b0",
   "metadata": {},
   "source": [
    "## Предобработка данных"
   ]
  },
  {
   "cell_type": "markdown",
   "id": "cad5fdc7",
   "metadata": {},
   "source": [
    "### Обработка пропусков "
   ]
  },
  {
   "cell_type": "code",
   "execution_count": 10,
   "id": "af545267",
   "metadata": {
    "scrolled": true
   },
   "outputs": [
    {
     "data": {
      "text/plain": [
       "Home Ownership                     0\n",
       "Annual Income                   1557\n",
       "Years in current job             371\n",
       "Tax Liens                          0\n",
       "Number of Open Accounts            0\n",
       "Years of Credit History            0\n",
       "Maximum Open Credit                0\n",
       "Number of Credit Problems          0\n",
       "Months since last delinquent    4081\n",
       "Bankruptcies                      14\n",
       "Purpose                            0\n",
       "Term                               0\n",
       "Current Loan Amount                0\n",
       "Current Credit Balance             0\n",
       "Monthly Debt                       0\n",
       "Credit Score                    1557\n",
       "Credit Default                     0\n",
       "dtype: int64"
      ]
     },
     "execution_count": 10,
     "metadata": {},
     "output_type": "execute_result"
    }
   ],
   "source": [
    "df.isna().sum()"
   ]
  },
  {
   "cell_type": "code",
   "execution_count": 11,
   "id": "435e7e5c",
   "metadata": {},
   "outputs": [
    {
     "data": {
      "image/png": "[encoded data removed]",
      "text/plain": [
       "<Figure size 1440x576 with 2 Axes>"
      ]
     },
     "metadata": {
      "needs_background": "light"
     },
     "output_type": "display_data"
    }
   ],
   "source": [
    "plt.figure(figsize=(20, 8))\n",
    "\n",
    "ax1 = plt.subplot(121)\n",
    "ax1.set_xlabel('Annual Income')\n",
    "ax1.set_ylabel('Count')\n",
    "ax1.set_title('Annual Income distribution')\n",
    "df['Annual Income'].hist(bins=30)\n",
    "\n",
    "# plt.subplot(122)\n",
    "ax1 = plt.subplot(122)\n",
    "ax1.set_xlabel('Credit Score')\n",
    "ax1.set_ylabel('Count')\n",
    "ax1.set_title('Credit Score distribution')\n",
    "df['Credit Score'].hist(bins=30)\n",
    "\n",
    "plt.show()"
   ]
  },
  {
   "cell_type": "code",
   "execution_count": 12,
   "id": "d821bb23",
   "metadata": {},
   "outputs": [],
   "source": [
    "df.loc[df['Annual Income'].isna(), 'Annual Income'] = df['Annual Income'].mode()[0]\n",
    "df.loc[df['Credit Score'].isna(), 'Credit Score'] = df['Credit Score'].mode()[0]"
   ]
  },
  {
   "cell_type": "code",
   "execution_count": 13,
   "id": "e62ddfdf",
   "metadata": {},
   "outputs": [
    {
     "data": {
      "image/png": "[encoded data removed]",
      "text/plain": [
       "<Figure size 1440x576 with 2 Axes>"
      ]
     },
     "metadata": {
      "needs_background": "light"
     },
     "output_type": "display_data"
    }
   ],
   "source": [
    "plt.figure(figsize=(20, 8))\n",
    "\n",
    "ax1 = plt.subplot(121)\n",
    "ax1.set_xlabel('Bankruptcies')\n",
    "ax1.set_ylabel('Count')\n",
    "ax1.set_title('Bankruptcies distribution')\n",
    "df['Bankruptcies'].hist(bins=30)\n",
    "\n",
    "# plt.subplot(122)\n",
    "ax1 = plt.subplot(122)\n",
    "ax1.set_xlabel('Years in current job')\n",
    "ax1.set_ylabel('Count')\n",
    "ax1.set_title('Years in current job distribution')\n",
    "df['Years in current job'].hist(bins=30)\n",
    "\n",
    "plt.show()"
   ]
  },
  {
   "cell_type": "markdown",
   "id": "2e904796",
   "metadata": {},
   "source": [
    "Признак **\"Years in current job\"** можно разбить на 4 категории: \"< 1 year\" == 0, \"1-5 years\" == 1, \"5-6 years\" == 2 и \"10+ years\" == 3. Так как я не экономист, точно не знаю, но интуитивно догадываюсь, что более долгий срок на одном рабочем месте повышает доверие.\n",
    "Признак **\"Bankruptcies\"** можно разделить на 2 категории: не банкрот == 0 и банкрот == 1"
   ]
  },
  {
   "cell_type": "code",
   "execution_count": 14,
   "id": "fdc304fb",
   "metadata": {},
   "outputs": [],
   "source": [
    "# YearsInCurrentJob\n",
    "df['Years_In_Current_Job_cat'] = df['Years in current job'].replace({'< 1 year':'0', \n",
    "                                                               '1 year':'1', '2 years':'1', '3 years':'1', '4 years':'1', '5 years':'1',\n",
    "                                                               '6 years':'2', '7 years':'2', '8 years':'2', '9 years':'2', '10 years':'2',\n",
    "                                                               '10+ years':'3'})\n",
    "# Bankruptcies\n",
    "df['Bankruptcies_cat'] = df['Bankruptcies'].replace({0:'0', 1:'1', 2:'1', 3:'1', 4:'1'})"
   ]
  },
  {
   "cell_type": "markdown",
   "id": "0d694629",
   "metadata": {},
   "source": [
    "Сейчас пропуски в данном признаке можно отнести к наиболее \"модной\" категории"
   ]
  },
  {
   "cell_type": "code",
   "execution_count": 15,
   "id": "1bb112aa",
   "metadata": {},
   "outputs": [],
   "source": [
    "df.loc[df['Years_In_Current_Job_cat'].isna(), 'Years_In_Current_Job_cat'] = df['Years_In_Current_Job_cat'].mode()[0]\n",
    "df.loc[df['Bankruptcies_cat'].isna(), 'Bankruptcies_cat'] = df['Bankruptcies_cat'].mode()[0]"
   ]
  },
  {
   "cell_type": "markdown",
   "id": "be3c1d04",
   "metadata": {},
   "source": [
    "Самое большое число пропусков в признаке 'Months since last delinquent' = 4081. Полагаю, что данный признак очень важен для оценки надежности заемщика: чем дольше заемщик не возвращает кредит кредитору, тем ниже надежность. Могу предположить, что если данные отсутствуют, то заемщик возвращает кредит вовремя. "
   ]
  },
  {
   "cell_type": "code",
   "execution_count": 16,
   "id": "3dd2614f",
   "metadata": {},
   "outputs": [],
   "source": [
    "df.loc[df['Months since last delinquent'].isna(), 'Months since last delinquent'] = 0"
   ]
  },
  {
   "cell_type": "markdown",
   "id": "526f8298",
   "metadata": {},
   "source": [
    "### Обработка выбросов"
   ]
  },
  {
   "cell_type": "markdown",
   "id": "603d24d2",
   "metadata": {},
   "source": [
    "**'CurrentLoanAmount'** = 99999999.0  выглядит как выброс. Заменим данное знечение на медиану."
   ]
  },
  {
   "cell_type": "code",
   "execution_count": 17,
   "id": "dd9673f4",
   "metadata": {},
   "outputs": [],
   "source": [
    "median_current_loan_amount = df['Current Loan Amount'].median()\n",
    "df.loc[(df['Current Loan Amount'] == 99999999.0), 'Current Loan Amount'] = median_current_loan_amount"
   ]
  },
  {
   "cell_type": "markdown",
   "id": "480e5d9c",
   "metadata": {},
   "source": [
    "### Номинальные признаки"
   ]
  },
  {
   "cell_type": "markdown",
   "id": "6865b93c",
   "metadata": {},
   "source": [
    "Признаки NumberOfOpenAccounts и NumberOfCreditProblems можно отнести к номинальным. "
   ]
  },
  {
   "cell_type": "code",
   "execution_count": 18,
   "id": "2f2f1eb4",
   "metadata": {},
   "outputs": [],
   "source": [
    "df['Number of Open Accounts'] = (df['Number of Open Accounts']).astype(int)\n",
    "df['Number of Credit Problems'] = (df['Number of Credit Problems']).astype(int)"
   ]
  },
  {
   "cell_type": "markdown",
   "id": "d29754d5",
   "metadata": {},
   "source": [
    "Я без понятия влияют ли налоговые обременения на решение о выдачи кредита, и если да, то как. Поэтому просто отсавляю данный признак без всяких манимулякий над ним"
   ]
  },
  {
   "cell_type": "markdown",
   "id": "96289ce8",
   "metadata": {},
   "source": [
    "### Категориальные признаки"
   ]
  },
  {
   "cell_type": "code",
   "execution_count": 19,
   "id": "2776275b",
   "metadata": {},
   "outputs": [
    {
     "name": "stdout",
     "output_type": "stream",
     "text": [
      "Home Ownership\n",
      "\n",
      "Home Mortgage    3637\n",
      "Rent             3204\n",
      "Own Home          647\n",
      "Have Mortgage      12\n",
      "Name: Home Ownership, dtype: int64\n",
      "****************************************************************************************************\n",
      "\n",
      "Years in current job\n",
      "\n",
      "10+ years    2332\n",
      "2 years       705\n",
      "3 years       620\n",
      "< 1 year      563\n",
      "5 years       516\n",
      "1 year        504\n",
      "4 years       469\n",
      "6 years       426\n",
      "7 years       396\n",
      "8 years       339\n",
      "9 years       259\n",
      "Name: Years in current job, dtype: int64\n",
      "****************************************************************************************************\n",
      "\n",
      "Purpose\n",
      "\n",
      "debt consolidation      5944\n",
      "other                    665\n",
      "home improvements        412\n",
      "business loan            129\n",
      "buy a car                 96\n",
      "medical bills             71\n",
      "major purchase            40\n",
      "take a trip               37\n",
      "buy house                 34\n",
      "small business            26\n",
      "wedding                   15\n",
      "moving                    11\n",
      "educational expenses      10\n",
      "vacation                   8\n",
      "renewable energy           2\n",
      "Name: Purpose, dtype: int64\n",
      "****************************************************************************************************\n",
      "\n",
      "Term\n",
      "\n",
      "Short Term    5556\n",
      "Long Term     1944\n",
      "Name: Term, dtype: int64\n",
      "****************************************************************************************************\n",
      "\n",
      "Years_In_Current_Job_cat\n",
      "\n",
      "1    3185\n",
      "3    2332\n",
      "2    1420\n",
      "0     563\n",
      "Name: Years_In_Current_Job_cat, dtype: int64\n",
      "****************************************************************************************************\n",
      "\n",
      "Bankruptcies_cat\n",
      "\n",
      "0    6674\n",
      "1     826\n",
      "Name: Bankruptcies_cat, dtype: int64\n",
      "****************************************************************************************************\n",
      "\n"
     ]
    }
   ],
   "source": [
    "for cat_colname in df.select_dtypes(include='object').columns:\n",
    "    print(str(cat_colname) + '\\n\\n' + str(df[cat_colname].value_counts()) + '\\n' + '*' * 100 + '\\n')"
   ]
  },
  {
   "cell_type": "markdown",
   "id": "c009e7f6",
   "metadata": {},
   "source": [
    "Среди других категориальных признаков, я полагаю, что домовладение может повлиять на надежность заемщика. Цель кредита будет, скорее всего коррелировать с суммой кредита и не будет сильно влиять на его выдачу. Срок кредитования, скорее всего, будет влиять на положительный / отрицательный ответ."
   ]
  },
  {
   "cell_type": "code",
   "execution_count": 20,
   "id": "aa7c9940",
   "metadata": {},
   "outputs": [],
   "source": [
    "df.drop(['Years in current job', 'Bankruptcies', 'Purpose'], axis=1, inplace=True)"
   ]
  },
  {
   "cell_type": "markdown",
   "id": "2dc69af6",
   "metadata": {},
   "source": [
    "### Создание новых признаков"
   ]
  },
  {
   "cell_type": "code",
   "execution_count": 21,
   "id": "e7019bc1",
   "metadata": {},
   "outputs": [],
   "source": [
    "# HomeOwnership\n",
    "df['Home_Ownership_cat'] = df['Home Ownership'].replace({'Home Mortgage':'0', 'Have Mortgage':'0', 'Rent':'1', 'Own Home':'2'})"
   ]
  },
  {
   "cell_type": "code",
   "execution_count": 22,
   "id": "4b0bbd8e",
   "metadata": {},
   "outputs": [],
   "source": [
    "for cat_colname in df.select_dtypes(include='object').columns[1:]:\n",
    "    df = pd.concat([df, pd.get_dummies(df[cat_colname], prefix=cat_colname)], axis=1)"
   ]
  },
  {
   "cell_type": "code",
   "execution_count": 23,
   "id": "717bc3c3",
   "metadata": {
    "scrolled": true
   },
   "outputs": [
    {
     "data": {
      "text/html": [
       "<div>\n",
       "<style scoped>\n",
       "    .dataframe tbody tr th:only-of-type {\n",
       "        vertical-align: middle;\n",
       "    }\n",
       "\n",
       "    .dataframe tbody tr th {\n",
       "        vertical-align: top;\n",
       "    }\n",
       "\n",
       "    .dataframe thead th {\n",
       "        text-align: right;\n",
       "    }\n",
       "</style>\n",
       "<table border=\"1\" class=\"dataframe\">\n",
       "  <thead>\n",
       "    <tr style=\"text-align: right;\">\n",
       "      <th></th>\n",
       "      <th>Home Ownership</th>\n",
       "      <th>Annual Income</th>\n",
       "      <th>Tax Liens</th>\n",
       "      <th>Number of Open Accounts</th>\n",
       "      <th>Years of Credit History</th>\n",
       "      <th>Maximum Open Credit</th>\n",
       "      <th>Number of Credit Problems</th>\n",
       "      <th>Months since last delinquent</th>\n",
       "      <th>Term</th>\n",
       "      <th>Current Loan Amount</th>\n",
       "      <th>...</th>\n",
       "      <th>Term_Short Term</th>\n",
       "      <th>Years_In_Current_Job_cat_0</th>\n",
       "      <th>Years_In_Current_Job_cat_1</th>\n",
       "      <th>Years_In_Current_Job_cat_2</th>\n",
       "      <th>Years_In_Current_Job_cat_3</th>\n",
       "      <th>Bankruptcies_cat_0</th>\n",
       "      <th>Bankruptcies_cat_1</th>\n",
       "      <th>Home_Ownership_cat_0</th>\n",
       "      <th>Home_Ownership_cat_1</th>\n",
       "      <th>Home_Ownership_cat_2</th>\n",
       "    </tr>\n",
       "  </thead>\n",
       "  <tbody>\n",
       "    <tr>\n",
       "      <th>0</th>\n",
       "      <td>Own Home</td>\n",
       "      <td>482087.0</td>\n",
       "      <td>0.0</td>\n",
       "      <td>11</td>\n",
       "      <td>26.3</td>\n",
       "      <td>685960.0</td>\n",
       "      <td>1</td>\n",
       "      <td>0.0</td>\n",
       "      <td>Short Term</td>\n",
       "      <td>309573.0</td>\n",
       "      <td>...</td>\n",
       "      <td>1</td>\n",
       "      <td>0</td>\n",
       "      <td>1</td>\n",
       "      <td>0</td>\n",
       "      <td>0</td>\n",
       "      <td>0</td>\n",
       "      <td>1</td>\n",
       "      <td>0</td>\n",
       "      <td>0</td>\n",
       "      <td>1</td>\n",
       "    </tr>\n",
       "    <tr>\n",
       "      <th>1</th>\n",
       "      <td>Own Home</td>\n",
       "      <td>1025487.0</td>\n",
       "      <td>0.0</td>\n",
       "      <td>15</td>\n",
       "      <td>15.3</td>\n",
       "      <td>1181730.0</td>\n",
       "      <td>0</td>\n",
       "      <td>0.0</td>\n",
       "      <td>Long Term</td>\n",
       "      <td>264968.0</td>\n",
       "      <td>...</td>\n",
       "      <td>0</td>\n",
       "      <td>0</td>\n",
       "      <td>0</td>\n",
       "      <td>0</td>\n",
       "      <td>1</td>\n",
       "      <td>1</td>\n",
       "      <td>0</td>\n",
       "      <td>0</td>\n",
       "      <td>0</td>\n",
       "      <td>1</td>\n",
       "    </tr>\n",
       "    <tr>\n",
       "      <th>2</th>\n",
       "      <td>Home Mortgage</td>\n",
       "      <td>751412.0</td>\n",
       "      <td>0.0</td>\n",
       "      <td>11</td>\n",
       "      <td>35.0</td>\n",
       "      <td>1182434.0</td>\n",
       "      <td>0</td>\n",
       "      <td>0.0</td>\n",
       "      <td>Short Term</td>\n",
       "      <td>309573.0</td>\n",
       "      <td>...</td>\n",
       "      <td>1</td>\n",
       "      <td>0</td>\n",
       "      <td>0</td>\n",
       "      <td>1</td>\n",
       "      <td>0</td>\n",
       "      <td>1</td>\n",
       "      <td>0</td>\n",
       "      <td>1</td>\n",
       "      <td>0</td>\n",
       "      <td>0</td>\n",
       "    </tr>\n",
       "    <tr>\n",
       "      <th>3</th>\n",
       "      <td>Own Home</td>\n",
       "      <td>805068.0</td>\n",
       "      <td>0.0</td>\n",
       "      <td>8</td>\n",
       "      <td>22.5</td>\n",
       "      <td>147400.0</td>\n",
       "      <td>1</td>\n",
       "      <td>0.0</td>\n",
       "      <td>Short Term</td>\n",
       "      <td>121396.0</td>\n",
       "      <td>...</td>\n",
       "      <td>1</td>\n",
       "      <td>0</td>\n",
       "      <td>0</td>\n",
       "      <td>1</td>\n",
       "      <td>0</td>\n",
       "      <td>0</td>\n",
       "      <td>1</td>\n",
       "      <td>0</td>\n",
       "      <td>0</td>\n",
       "      <td>1</td>\n",
       "    </tr>\n",
       "    <tr>\n",
       "      <th>4</th>\n",
       "      <td>Rent</td>\n",
       "      <td>776264.0</td>\n",
       "      <td>0.0</td>\n",
       "      <td>13</td>\n",
       "      <td>13.6</td>\n",
       "      <td>385836.0</td>\n",
       "      <td>1</td>\n",
       "      <td>0.0</td>\n",
       "      <td>Short Term</td>\n",
       "      <td>125840.0</td>\n",
       "      <td>...</td>\n",
       "      <td>1</td>\n",
       "      <td>0</td>\n",
       "      <td>0</td>\n",
       "      <td>1</td>\n",
       "      <td>0</td>\n",
       "      <td>1</td>\n",
       "      <td>0</td>\n",
       "      <td>0</td>\n",
       "      <td>1</td>\n",
       "      <td>0</td>\n",
       "    </tr>\n",
       "  </tbody>\n",
       "</table>\n",
       "<p>5 rows × 28 columns</p>\n",
       "</div>"
      ],
      "text/plain": [
       "  Home Ownership  Annual Income  Tax Liens  Number of Open Accounts  \\\n",
       "0       Own Home       482087.0        0.0                       11   \n",
       "1       Own Home      1025487.0        0.0                       15   \n",
       "2  Home Mortgage       751412.0        0.0                       11   \n",
       "3       Own Home       805068.0        0.0                        8   \n",
       "4           Rent       776264.0        0.0                       13   \n",
       "\n",
       "   Years of Credit History  Maximum Open Credit  Number of Credit Problems  \\\n",
       "0                     26.3             685960.0                          1   \n",
       "1                     15.3            1181730.0                          0   \n",
       "2                     35.0            1182434.0                          0   \n",
       "3                     22.5             147400.0                          1   \n",
       "4                     13.6             385836.0                          1   \n",
       "\n",
       "   Months since last delinquent        Term  Current Loan Amount  ...  \\\n",
       "0                           0.0  Short Term             309573.0  ...   \n",
       "1                           0.0   Long Term             264968.0  ...   \n",
       "2                           0.0  Short Term             309573.0  ...   \n",
       "3                           0.0  Short Term             121396.0  ...   \n",
       "4                           0.0  Short Term             125840.0  ...   \n",
       "\n",
       "   Term_Short Term  Years_In_Current_Job_cat_0  Years_In_Current_Job_cat_1  \\\n",
       "0                1                           0                           1   \n",
       "1                0                           0                           0   \n",
       "2                1                           0                           0   \n",
       "3                1                           0                           0   \n",
       "4                1                           0                           0   \n",
       "\n",
       "   Years_In_Current_Job_cat_2 Years_In_Current_Job_cat_3 Bankruptcies_cat_0  \\\n",
       "0                           0                          0                  0   \n",
       "1                           0                          1                  1   \n",
       "2                           1                          0                  1   \n",
       "3                           1                          0                  0   \n",
       "4                           1                          0                  1   \n",
       "\n",
       "  Bankruptcies_cat_1  Home_Ownership_cat_0  Home_Ownership_cat_1  \\\n",
       "0                  1                     0                     0   \n",
       "1                  0                     0                     0   \n",
       "2                  0                     1                     0   \n",
       "3                  1                     0                     0   \n",
       "4                  0                     0                     1   \n",
       "\n",
       "   Home_Ownership_cat_2  \n",
       "0                     1  \n",
       "1                     1  \n",
       "2                     0  \n",
       "3                     1  \n",
       "4                     0  \n",
       "\n",
       "[5 rows x 28 columns]"
      ]
     },
     "execution_count": 23,
     "metadata": {},
     "output_type": "execute_result"
    }
   ],
   "source": [
    "df.head()"
   ]
  },
  {
   "cell_type": "code",
   "execution_count": 24,
   "id": "1ae61ab5",
   "metadata": {},
   "outputs": [
    {
     "name": "stdout",
     "output_type": "stream",
     "text": [
      "<class 'pandas.core.frame.DataFrame'>\n",
      "RangeIndex: 7500 entries, 0 to 7499\n",
      "Data columns (total 28 columns):\n",
      " #   Column                        Non-Null Count  Dtype  \n",
      "---  ------                        --------------  -----  \n",
      " 0   Home Ownership                7500 non-null   object \n",
      " 1   Annual Income                 7500 non-null   float64\n",
      " 2   Tax Liens                     7500 non-null   float64\n",
      " 3   Number of Open Accounts       7500 non-null   int32  \n",
      " 4   Years of Credit History       7500 non-null   float64\n",
      " 5   Maximum Open Credit           7500 non-null   float64\n",
      " 6   Number of Credit Problems     7500 non-null   int32  \n",
      " 7   Months since last delinquent  7500 non-null   float64\n",
      " 8   Term                          7500 non-null   object \n",
      " 9   Current Loan Amount           7500 non-null   float64\n",
      " 10  Current Credit Balance        7500 non-null   float64\n",
      " 11  Monthly Debt                  7500 non-null   float64\n",
      " 12  Credit Score                  7500 non-null   float64\n",
      " 13  Credit Default                7500 non-null   int64  \n",
      " 14  Years_In_Current_Job_cat      7500 non-null   object \n",
      " 15  Bankruptcies_cat              7500 non-null   object \n",
      " 16  Home_Ownership_cat            7500 non-null   object \n",
      " 17  Term_Long Term                7500 non-null   uint8  \n",
      " 18  Term_Short Term               7500 non-null   uint8  \n",
      " 19  Years_In_Current_Job_cat_0    7500 non-null   uint8  \n",
      " 20  Years_In_Current_Job_cat_1    7500 non-null   uint8  \n",
      " 21  Years_In_Current_Job_cat_2    7500 non-null   uint8  \n",
      " 22  Years_In_Current_Job_cat_3    7500 non-null   uint8  \n",
      " 23  Bankruptcies_cat_0            7500 non-null   uint8  \n",
      " 24  Bankruptcies_cat_1            7500 non-null   uint8  \n",
      " 25  Home_Ownership_cat_0          7500 non-null   uint8  \n",
      " 26  Home_Ownership_cat_1          7500 non-null   uint8  \n",
      " 27  Home_Ownership_cat_2          7500 non-null   uint8  \n",
      "dtypes: float64(9), int32(2), int64(1), object(5), uint8(11)\n",
      "memory usage: 2.9 MB\n"
     ]
    }
   ],
   "source": [
    "df.info(memory_usage='deep')"
   ]
  },
  {
   "cell_type": "markdown",
   "id": "5157efb9",
   "metadata": {},
   "source": [
    "Удалим столбцы с категориальными данными, из которых создали новые признаки"
   ]
  },
  {
   "cell_type": "code",
   "execution_count": 25,
   "id": "937c31ac",
   "metadata": {},
   "outputs": [],
   "source": [
    "df.drop(['Home Ownership', 'Years_In_Current_Job_cat', 'Home_Ownership_cat', 'Bankruptcies_cat', 'Term'], axis=1, inplace=True)"
   ]
  },
  {
   "cell_type": "code",
   "execution_count": 26,
   "id": "d0eef83e",
   "metadata": {},
   "outputs": [
    {
     "name": "stdout",
     "output_type": "stream",
     "text": [
      "<class 'pandas.core.frame.DataFrame'>\n",
      "RangeIndex: 7500 entries, 0 to 7499\n",
      "Data columns (total 23 columns):\n",
      " #   Column                        Non-Null Count  Dtype  \n",
      "---  ------                        --------------  -----  \n",
      " 0   Annual Income                 7500 non-null   float64\n",
      " 1   Tax Liens                     7500 non-null   float64\n",
      " 2   Number of Open Accounts       7500 non-null   int32  \n",
      " 3   Years of Credit History       7500 non-null   float64\n",
      " 4   Maximum Open Credit           7500 non-null   float64\n",
      " 5   Number of Credit Problems     7500 non-null   int32  \n",
      " 6   Months since last delinquent  7500 non-null   float64\n",
      " 7   Current Loan Amount           7500 non-null   float64\n",
      " 8   Current Credit Balance        7500 non-null   float64\n",
      " 9   Monthly Debt                  7500 non-null   float64\n",
      " 10  Credit Score                  7500 non-null   float64\n",
      " 11  Credit Default                7500 non-null   int64  \n",
      " 12  Term_Long Term                7500 non-null   uint8  \n",
      " 13  Term_Short Term               7500 non-null   uint8  \n",
      " 14  Years_In_Current_Job_cat_0    7500 non-null   uint8  \n",
      " 15  Years_In_Current_Job_cat_1    7500 non-null   uint8  \n",
      " 16  Years_In_Current_Job_cat_2    7500 non-null   uint8  \n",
      " 17  Years_In_Current_Job_cat_3    7500 non-null   uint8  \n",
      " 18  Bankruptcies_cat_0            7500 non-null   uint8  \n",
      " 19  Bankruptcies_cat_1            7500 non-null   uint8  \n",
      " 20  Home_Ownership_cat_0          7500 non-null   uint8  \n",
      " 21  Home_Ownership_cat_1          7500 non-null   uint8  \n",
      " 22  Home_Ownership_cat_2          7500 non-null   uint8  \n",
      "dtypes: float64(9), int32(2), int64(1), uint8(11)\n",
      "memory usage: 725.2 KB\n"
     ]
    }
   ],
   "source": [
    "df.info(memory_usage='deep')"
   ]
  },
  {
   "cell_type": "markdown",
   "id": "ef213ae3",
   "metadata": {},
   "source": [
    "### Нормализация количесвенных переменных"
   ]
  },
  {
   "cell_type": "code",
   "execution_count": 27,
   "id": "79aa99e3",
   "metadata": {},
   "outputs": [],
   "source": [
    "from sklearn import preprocessing"
   ]
  },
  {
   "cell_type": "code",
   "execution_count": 28,
   "id": "0b2820fd",
   "metadata": {},
   "outputs": [],
   "source": [
    "col_feature_names = ['Annual Income', 'Tax Liens', 'Number of Open Accounts', 'Years of Credit History',\n",
    "                     'Maximum Open Credit', 'Number of Credit Problems', 'Months since last delinquent', \n",
    "                     'Current Loan Amount', 'Current Credit Balance', 'Monthly Debt', 'Credit Score']"
   ]
  },
  {
   "cell_type": "code",
   "execution_count": 29,
   "id": "ffc5acc7",
   "metadata": {},
   "outputs": [],
   "source": [
    "scaler = preprocessing.StandardScaler()\n",
    "\n",
    "df_norm = df.copy()\n",
    "df_norm[col_feature_names] = scaler.fit_transform(df_norm[col_feature_names])\n",
    "\n",
    "df = df_norm.copy()"
   ]
  },
  {
   "cell_type": "code",
   "execution_count": 30,
   "id": "4c17fa0b",
   "metadata": {},
   "outputs": [],
   "source": [
    "df.to_csv(PREP_DATASET_PATH, index=False, encoding='utf-8')"
   ]
  },
  {
   "cell_type": "code",
   "execution_count": 31,
   "id": "5da7dafb",
   "metadata": {},
   "outputs": [
    {
     "data": {
      "text/html": [
       "<div>\n",
       "<style scoped>\n",
       "    .dataframe tbody tr th:only-of-type {\n",
       "        vertical-align: middle;\n",
       "    }\n",
       "\n",
       "    .dataframe tbody tr th {\n",
       "        vertical-align: top;\n",
       "    }\n",
       "\n",
       "    .dataframe thead th {\n",
       "        text-align: right;\n",
       "    }\n",
       "</style>\n",
       "<table border=\"1\" class=\"dataframe\">\n",
       "  <thead>\n",
       "    <tr style=\"text-align: right;\">\n",
       "      <th></th>\n",
       "      <th>Annual Income</th>\n",
       "      <th>Tax Liens</th>\n",
       "      <th>Number of Open Accounts</th>\n",
       "      <th>Years of Credit History</th>\n",
       "      <th>Maximum Open Credit</th>\n",
       "      <th>Number of Credit Problems</th>\n",
       "      <th>Months since last delinquent</th>\n",
       "      <th>Current Loan Amount</th>\n",
       "      <th>Current Credit Balance</th>\n",
       "      <th>Monthly Debt</th>\n",
       "      <th>...</th>\n",
       "      <th>Term_Short Term</th>\n",
       "      <th>Years_In_Current_Job_cat_0</th>\n",
       "      <th>Years_In_Current_Job_cat_1</th>\n",
       "      <th>Years_In_Current_Job_cat_2</th>\n",
       "      <th>Years_In_Current_Job_cat_3</th>\n",
       "      <th>Bankruptcies_cat_0</th>\n",
       "      <th>Bankruptcies_cat_1</th>\n",
       "      <th>Home_Ownership_cat_0</th>\n",
       "      <th>Home_Ownership_cat_1</th>\n",
       "      <th>Home_Ownership_cat_2</th>\n",
       "    </tr>\n",
       "  </thead>\n",
       "  <tbody>\n",
       "    <tr>\n",
       "      <th>0</th>\n",
       "      <td>-1.042166</td>\n",
       "      <td>-0.110953</td>\n",
       "      <td>-0.026674</td>\n",
       "      <td>1.133645</td>\n",
       "      <td>-0.016174</td>\n",
       "      <td>1.664779</td>\n",
       "      <td>-0.698307</td>\n",
       "      <td>0.002830</td>\n",
       "      <td>-0.762772</td>\n",
       "      <td>-0.872085</td>\n",
       "      <td>...</td>\n",
       "      <td>1</td>\n",
       "      <td>0</td>\n",
       "      <td>1</td>\n",
       "      <td>0</td>\n",
       "      <td>0</td>\n",
       "      <td>0</td>\n",
       "      <td>1</td>\n",
       "      <td>0</td>\n",
       "      <td>0</td>\n",
       "      <td>1</td>\n",
       "    </tr>\n",
       "    <tr>\n",
       "      <th>1</th>\n",
       "      <td>-0.335956</td>\n",
       "      <td>-0.110953</td>\n",
       "      <td>0.788223</td>\n",
       "      <td>-0.428528</td>\n",
       "      <td>0.014763</td>\n",
       "      <td>-0.340979</td>\n",
       "      <td>-0.698307</td>\n",
       "      <td>-0.257436</td>\n",
       "      <td>0.330781</td>\n",
       "      <td>0.004909</td>\n",
       "      <td>...</td>\n",
       "      <td>0</td>\n",
       "      <td>0</td>\n",
       "      <td>0</td>\n",
       "      <td>0</td>\n",
       "      <td>1</td>\n",
       "      <td>1</td>\n",
       "      <td>0</td>\n",
       "      <td>0</td>\n",
       "      <td>0</td>\n",
       "      <td>1</td>\n",
       "    </tr>\n",
       "    <tr>\n",
       "      <th>2</th>\n",
       "      <td>-0.692148</td>\n",
       "      <td>-0.110953</td>\n",
       "      <td>-0.026674</td>\n",
       "      <td>2.369181</td>\n",
       "      <td>0.014807</td>\n",
       "      <td>-0.340979</td>\n",
       "      <td>-0.698307</td>\n",
       "      <td>0.002830</td>\n",
       "      <td>0.058379</td>\n",
       "      <td>-0.391034</td>\n",
       "      <td>...</td>\n",
       "      <td>1</td>\n",
       "      <td>0</td>\n",
       "      <td>0</td>\n",
       "      <td>1</td>\n",
       "      <td>0</td>\n",
       "      <td>1</td>\n",
       "      <td>0</td>\n",
       "      <td>1</td>\n",
       "      <td>0</td>\n",
       "      <td>0</td>\n",
       "    </tr>\n",
       "    <tr>\n",
       "      <th>3</th>\n",
       "      <td>-0.622416</td>\n",
       "      <td>-0.110953</td>\n",
       "      <td>-0.637847</td>\n",
       "      <td>0.593985</td>\n",
       "      <td>-0.049781</td>\n",
       "      <td>1.664779</td>\n",
       "      <td>-0.698307</td>\n",
       "      <td>-1.095166</td>\n",
       "      <td>-0.610282</td>\n",
       "      <td>-0.584980</td>\n",
       "      <td>...</td>\n",
       "      <td>1</td>\n",
       "      <td>0</td>\n",
       "      <td>0</td>\n",
       "      <td>1</td>\n",
       "      <td>0</td>\n",
       "      <td>0</td>\n",
       "      <td>1</td>\n",
       "      <td>0</td>\n",
       "      <td>0</td>\n",
       "      <td>1</td>\n",
       "    </tr>\n",
       "    <tr>\n",
       "      <th>4</th>\n",
       "      <td>-0.659850</td>\n",
       "      <td>-0.110953</td>\n",
       "      <td>0.380774</td>\n",
       "      <td>-0.669954</td>\n",
       "      <td>-0.034902</td>\n",
       "      <td>1.664779</td>\n",
       "      <td>-0.698307</td>\n",
       "      <td>-1.069235</td>\n",
       "      <td>-0.618292</td>\n",
       "      <td>-0.933631</td>\n",
       "      <td>...</td>\n",
       "      <td>1</td>\n",
       "      <td>0</td>\n",
       "      <td>0</td>\n",
       "      <td>1</td>\n",
       "      <td>0</td>\n",
       "      <td>1</td>\n",
       "      <td>0</td>\n",
       "      <td>0</td>\n",
       "      <td>1</td>\n",
       "      <td>0</td>\n",
       "    </tr>\n",
       "  </tbody>\n",
       "</table>\n",
       "<p>5 rows × 23 columns</p>\n",
       "</div>"
      ],
      "text/plain": [
       "   Annual Income  Tax Liens  Number of Open Accounts  Years of Credit History  \\\n",
       "0      -1.042166  -0.110953                -0.026674                 1.133645   \n",
       "1      -0.335956  -0.110953                 0.788223                -0.428528   \n",
       "2      -0.692148  -0.110953                -0.026674                 2.369181   \n",
       "3      -0.622416  -0.110953                -0.637847                 0.593985   \n",
       "4      -0.659850  -0.110953                 0.380774                -0.669954   \n",
       "\n",
       "   Maximum Open Credit  Number of Credit Problems  \\\n",
       "0            -0.016174                   1.664779   \n",
       "1             0.014763                  -0.340979   \n",
       "2             0.014807                  -0.340979   \n",
       "3            -0.049781                   1.664779   \n",
       "4            -0.034902                   1.664779   \n",
       "\n",
       "   Months since last delinquent  Current Loan Amount  Current Credit Balance  \\\n",
       "0                     -0.698307             0.002830               -0.762772   \n",
       "1                     -0.698307            -0.257436                0.330781   \n",
       "2                     -0.698307             0.002830                0.058379   \n",
       "3                     -0.698307            -1.095166               -0.610282   \n",
       "4                     -0.698307            -1.069235               -0.618292   \n",
       "\n",
       "   Monthly Debt  ...  Term_Short Term  Years_In_Current_Job_cat_0  \\\n",
       "0     -0.872085  ...                1                           0   \n",
       "1      0.004909  ...                0                           0   \n",
       "2     -0.391034  ...                1                           0   \n",
       "3     -0.584980  ...                1                           0   \n",
       "4     -0.933631  ...                1                           0   \n",
       "\n",
       "   Years_In_Current_Job_cat_1  Years_In_Current_Job_cat_2  \\\n",
       "0                           1                           0   \n",
       "1                           0                           0   \n",
       "2                           0                           1   \n",
       "3                           0                           1   \n",
       "4                           0                           1   \n",
       "\n",
       "   Years_In_Current_Job_cat_3  Bankruptcies_cat_0  Bankruptcies_cat_1  \\\n",
       "0                           0                   0                   1   \n",
       "1                           1                   1                   0   \n",
       "2                           0                   1                   0   \n",
       "3                           0                   0                   1   \n",
       "4                           0                   1                   0   \n",
       "\n",
       "   Home_Ownership_cat_0  Home_Ownership_cat_1  Home_Ownership_cat_2  \n",
       "0                     0                     0                     1  \n",
       "1                     0                     0                     1  \n",
       "2                     1                     0                     0  \n",
       "3                     0                     0                     1  \n",
       "4                     0                     1                     0  \n",
       "\n",
       "[5 rows x 23 columns]"
      ]
     },
     "execution_count": 31,
     "metadata": {},
     "output_type": "execute_result"
    }
   ],
   "source": [
    "df.head()"
   ]
  },
  {
   "cell_type": "markdown",
   "id": "cfe92a23",
   "metadata": {},
   "source": [
    "### Разбиение датасета на тестовую и валидационную "
   ]
  },
  {
   "cell_type": "code",
   "execution_count": 32,
   "id": "7869b72c",
   "metadata": {},
   "outputs": [],
   "source": [
    "from sklearn.model_selection import train_test_split, ShuffleSplit, cross_val_score, learning_curve"
   ]
  },
  {
   "cell_type": "code",
   "execution_count": 33,
   "id": "e3117aef",
   "metadata": {},
   "outputs": [],
   "source": [
    "target_name = 'Credit Default'"
   ]
  },
  {
   "cell_type": "code",
   "execution_count": 34,
   "id": "f3ad0abb",
   "metadata": {},
   "outputs": [],
   "source": [
    "X = df.drop(columns=target_name)\n",
    "y = df[target_name]\n",
    "\n",
    "X_train, X_valid, y_train, y_valid = train_test_split(X, y, shuffle=True, test_size=0.30, random_state=21)"
   ]
  },
  {
   "cell_type": "markdown",
   "id": "94edd079",
   "metadata": {},
   "source": [
    "### Балансировка целевой переменной"
   ]
  },
  {
   "cell_type": "code",
   "execution_count": 35,
   "id": "7e856be3",
   "metadata": {},
   "outputs": [
    {
     "data": {
      "image/png": "[encoded data removed]",
      "text/plain": [
       "<Figure size 576x360 with 1 Axes>"
      ]
     },
     "metadata": {
      "needs_background": "light"
     },
     "output_type": "display_data"
    }
   ],
   "source": [
    "plt.figure(figsize=(8, 5))\n",
    "\n",
    "sns.countplot(x=y, data=df)\n",
    "\n",
    "plt.title('Target variable distribution')\n",
    "plt.show()"
   ]
  },
  {
   "cell_type": "code",
   "execution_count": 36,
   "id": "530235f1",
   "metadata": {},
   "outputs": [
    {
     "data": {
      "text/plain": [
       "0    5387\n",
       "1    2113\n",
       "Name: Credit Default, dtype: int64"
      ]
     },
     "execution_count": 36,
     "metadata": {},
     "output_type": "execute_result"
    }
   ],
   "source": [
    "y.value_counts()"
   ]
  },
  {
   "cell_type": "code",
   "execution_count": 37,
   "id": "a4043d4b",
   "metadata": {},
   "outputs": [],
   "source": [
    "def balance_df_by_target(df, target_name):\n",
    "\n",
    "    target_counts = df[target_name].value_counts()\n",
    "\n",
    "    major_class_name = target_counts.argmax()\n",
    "    minor_class_name = target_counts.argmin()\n",
    "\n",
    "    disbalance_coeff = int(target_counts[major_class_name] / target_counts[minor_class_name]) - 1\n",
    "\n",
    "    for i in range(disbalance_coeff):\n",
    "        sample = df[df[target_name] == minor_class_name].sample(target_counts[minor_class_name])\n",
    "        df = df.append(sample, ignore_index=True)\n",
    "\n",
    "    return df.sample(frac=1) "
   ]
  },
  {
   "cell_type": "code",
   "execution_count": 38,
   "id": "c59fb6a8",
   "metadata": {},
   "outputs": [
    {
     "data": {
      "text/plain": [
       "0    3771\n",
       "1    2958\n",
       "Name: Credit Default, dtype: int64"
      ]
     },
     "execution_count": 38,
     "metadata": {},
     "output_type": "execute_result"
    }
   ],
   "source": [
    "df_for_balancing = pd.concat([X_train, y_train], axis=1)\n",
    "df_balanced = balance_df_by_target(df_for_balancing, target_name)\n",
    "df_for_balancing = pd.concat([X_train, y_train], axis=1)\n",
    "df_balanced = balance_df_by_target(df_for_balancing, target_name)\n",
    "    \n",
    "df_balanced[target_name].value_counts()"
   ]
  },
  {
   "cell_type": "code",
   "execution_count": 39,
   "id": "9c4947b8",
   "metadata": {},
   "outputs": [],
   "source": [
    "X_train = df_balanced.drop(columns=target_name)\n",
    "y_train = df_balanced[target_name]"
   ]
  },
  {
   "cell_type": "markdown",
   "id": "de554bd4",
   "metadata": {},
   "source": [
    "### Сохранение обучающего и валидационного датасетов"
   ]
  },
  {
   "cell_type": "code",
   "execution_count": 40,
   "id": "173ff1bc",
   "metadata": {},
   "outputs": [],
   "source": [
    "train = pd.concat([X_train, y_train], axis=1)\n",
    "valid = pd.concat([X_valid, y_valid], axis=1)"
   ]
  },
  {
   "cell_type": "code",
   "execution_count": 41,
   "id": "4cdcad3f",
   "metadata": {},
   "outputs": [],
   "source": [
    "df.to_csv(TRAIN_FULL_PATH, index=False, encoding='utf-8')\n",
    "train.to_csv(TRAIN_PART_PATH, index=False, encoding='utf-8')\n",
    "valid.to_csv(VALID_PART_PATH, index=False, encoding='utf-8')"
   ]
  },
  {
   "cell_type": "markdown",
   "id": "baebb49f",
   "metadata": {},
   "source": [
    "## Обучение модели"
   ]
  },
  {
   "cell_type": "markdown",
   "id": "f11b3927",
   "metadata": {},
   "source": [
    "Для начала я создала датасет со сниженной размерностью (PCA) с 3мя главными компонентами с самой большой объяснённой дисперсией. При этом сохранялось почти 98 процентов информации.\n",
    "Обучение проводила как на изначальном датасете, так и на датасете со сниженной размерностью в сравнении. Для обучения использовала такие методы как: логистическая регрессия, _К_ ближайших соседей, деревья решений и случайный лес. F1-score и на тренировочном и на валидауионном датасетах были для 0 класса >0.8, а для 1 класса < 0.5. \n",
    "Бустинговые модели проявили себя лучше. При использовании **XGBoost** f1-score на тренировочном датасете для 0 класса составил 0,99, для 1 класса 0,98. На валидационном датасете f1-score для 0 класса составил 0,82, для 1 класса - 0,48.\n",
    "Результаты **CatBoost** были более перспективными: f1-score на тренировочном датасете для 0 класса составил 0,92, для 1 класса 0,90, но на валидационном датасете 0,83 - для 0 класса и 0,50 - для 1 класса.\n",
    "Результаты **LightGBM** незначительно отличались от результатов **CatBoost**: f1-score на тренировочном датасете для 0 класса составил 0,93, для 1 класса 0,91; на валидационном датасете 0,82 - для 0 класса и 0,50 - для 1 класса.\n",
    "Далее я снова провела обработку данных, обучила тренировочную выборку и оценила на влидационной с использрванием моделей описанных выше. Лучшие показатели были у модели **CatBoost** с параметрами: n_estimators=500, max_depth=3. Только данная модель представленна в курсовом проекте."
   ]
  },
  {
   "cell_type": "markdown",
   "id": "ca85b7a7",
   "metadata": {},
   "source": [
    "#### Обучение и оценка финальной модели"
   ]
  },
  {
   "cell_type": "code",
   "execution_count": 42,
   "id": "944c8a8c",
   "metadata": {},
   "outputs": [],
   "source": [
    "def get_classification_report(y_train_true, y_train_pred, y_valid_true, y_valid_pred):\n",
    "    print('TRAIN\\n\\n' + classification_report(y_train_true, y_train_pred))\n",
    "    print('TEST\\n\\n' + classification_report(y_valid_true, y_valid_pred))\n",
    "    print('CONFUSION MATRIX\\n')\n",
    "    print(pd.crosstab(y_valid_true, y_valid_pred))"
   ]
  },
  {
   "cell_type": "code",
   "execution_count": 43,
   "id": "9acc8722",
   "metadata": {},
   "outputs": [
    {
     "name": "stdout",
     "output_type": "stream",
     "text": [
      "TRAIN\n",
      "\n",
      "              precision    recall  f1-score   support\n",
      "\n",
      "           0       0.75      0.88      0.81      3771\n",
      "           1       0.80      0.63      0.70      2958\n",
      "\n",
      "    accuracy                           0.77      6729\n",
      "   macro avg       0.77      0.75      0.76      6729\n",
      "weighted avg       0.77      0.77      0.76      6729\n",
      "\n",
      "TEST\n",
      "\n",
      "              precision    recall  f1-score   support\n",
      "\n",
      "           0       0.81      0.84      0.82      1616\n",
      "           1       0.54      0.49      0.51       634\n",
      "\n",
      "    accuracy                           0.74      2250\n",
      "   macro avg       0.67      0.66      0.67      2250\n",
      "weighted avg       0.73      0.74      0.73      2250\n",
      "\n",
      "CONFUSION MATRIX\n",
      "\n",
      "col_0              0    1\n",
      "Credit Default           \n",
      "0               1351  265\n",
      "1                324  310\n",
      "Wall time: 3.09 s\n"
     ]
    }
   ],
   "source": [
    "%%time\n",
    "\n",
    "final_model = catb.CatBoostClassifier(n_estimators=500, max_depth=3,\n",
    "                                      silent=True, random_state=21)\n",
    "final_model.fit(X_train, y_train)\n",
    "\n",
    "y_train_pred = final_model.predict(X_train)\n",
    "y_valid_pred = final_model.predict(X_valid)\n",
    "\n",
    "get_classification_report(y_train, y_train_pred, y_valid, y_valid_pred)"
   ]
  },
  {
   "cell_type": "markdown",
   "id": "848c3325",
   "metadata": {},
   "source": [
    "### Подготовка тестового датасета"
   ]
  },
  {
   "cell_type": "code",
   "execution_count": 44,
   "id": "e72fbf1e",
   "metadata": {},
   "outputs": [
    {
     "data": {
      "text/html": [
       "<div>\n",
       "<style scoped>\n",
       "    .dataframe tbody tr th:only-of-type {\n",
       "        vertical-align: middle;\n",
       "    }\n",
       "\n",
       "    .dataframe tbody tr th {\n",
       "        vertical-align: top;\n",
       "    }\n",
       "\n",
       "    .dataframe thead th {\n",
       "        text-align: right;\n",
       "    }\n",
       "</style>\n",
       "<table border=\"1\" class=\"dataframe\">\n",
       "  <thead>\n",
       "    <tr style=\"text-align: right;\">\n",
       "      <th></th>\n",
       "      <th>Home Ownership</th>\n",
       "      <th>Annual Income</th>\n",
       "      <th>Years in current job</th>\n",
       "      <th>Tax Liens</th>\n",
       "      <th>Number of Open Accounts</th>\n",
       "      <th>Years of Credit History</th>\n",
       "      <th>Maximum Open Credit</th>\n",
       "      <th>Number of Credit Problems</th>\n",
       "      <th>Months since last delinquent</th>\n",
       "      <th>Bankruptcies</th>\n",
       "      <th>Purpose</th>\n",
       "      <th>Term</th>\n",
       "      <th>Current Loan Amount</th>\n",
       "      <th>Current Credit Balance</th>\n",
       "      <th>Monthly Debt</th>\n",
       "      <th>Credit Score</th>\n",
       "    </tr>\n",
       "  </thead>\n",
       "  <tbody>\n",
       "    <tr>\n",
       "      <th>0</th>\n",
       "      <td>Rent</td>\n",
       "      <td>NaN</td>\n",
       "      <td>4 years</td>\n",
       "      <td>0.0</td>\n",
       "      <td>9.0</td>\n",
       "      <td>12.5</td>\n",
       "      <td>220968.0</td>\n",
       "      <td>0.0</td>\n",
       "      <td>70.0</td>\n",
       "      <td>0.0</td>\n",
       "      <td>debt consolidation</td>\n",
       "      <td>Short Term</td>\n",
       "      <td>162470.0</td>\n",
       "      <td>105906.0</td>\n",
       "      <td>6813.0</td>\n",
       "      <td>NaN</td>\n",
       "    </tr>\n",
       "    <tr>\n",
       "      <th>1</th>\n",
       "      <td>Rent</td>\n",
       "      <td>231838.0</td>\n",
       "      <td>1 year</td>\n",
       "      <td>0.0</td>\n",
       "      <td>6.0</td>\n",
       "      <td>32.7</td>\n",
       "      <td>55946.0</td>\n",
       "      <td>0.0</td>\n",
       "      <td>8.0</td>\n",
       "      <td>0.0</td>\n",
       "      <td>educational expenses</td>\n",
       "      <td>Short Term</td>\n",
       "      <td>78298.0</td>\n",
       "      <td>46037.0</td>\n",
       "      <td>2318.0</td>\n",
       "      <td>699.0</td>\n",
       "    </tr>\n",
       "    <tr>\n",
       "      <th>2</th>\n",
       "      <td>Home Mortgage</td>\n",
       "      <td>1152540.0</td>\n",
       "      <td>3 years</td>\n",
       "      <td>0.0</td>\n",
       "      <td>10.0</td>\n",
       "      <td>13.7</td>\n",
       "      <td>204600.0</td>\n",
       "      <td>0.0</td>\n",
       "      <td>NaN</td>\n",
       "      <td>0.0</td>\n",
       "      <td>debt consolidation</td>\n",
       "      <td>Short Term</td>\n",
       "      <td>200178.0</td>\n",
       "      <td>146490.0</td>\n",
       "      <td>18729.0</td>\n",
       "      <td>7260.0</td>\n",
       "    </tr>\n",
       "    <tr>\n",
       "      <th>3</th>\n",
       "      <td>Home Mortgage</td>\n",
       "      <td>1220313.0</td>\n",
       "      <td>10+ years</td>\n",
       "      <td>0.0</td>\n",
       "      <td>16.0</td>\n",
       "      <td>17.0</td>\n",
       "      <td>456302.0</td>\n",
       "      <td>0.0</td>\n",
       "      <td>70.0</td>\n",
       "      <td>0.0</td>\n",
       "      <td>debt consolidation</td>\n",
       "      <td>Short Term</td>\n",
       "      <td>217382.0</td>\n",
       "      <td>213199.0</td>\n",
       "      <td>27559.0</td>\n",
       "      <td>739.0</td>\n",
       "    </tr>\n",
       "    <tr>\n",
       "      <th>4</th>\n",
       "      <td>Home Mortgage</td>\n",
       "      <td>2340952.0</td>\n",
       "      <td>6 years</td>\n",
       "      <td>0.0</td>\n",
       "      <td>11.0</td>\n",
       "      <td>23.6</td>\n",
       "      <td>1207272.0</td>\n",
       "      <td>0.0</td>\n",
       "      <td>NaN</td>\n",
       "      <td>0.0</td>\n",
       "      <td>debt consolidation</td>\n",
       "      <td>Long Term</td>\n",
       "      <td>777634.0</td>\n",
       "      <td>425391.0</td>\n",
       "      <td>42605.0</td>\n",
       "      <td>706.0</td>\n",
       "    </tr>\n",
       "  </tbody>\n",
       "</table>\n",
       "</div>"
      ],
      "text/plain": [
       "  Home Ownership  Annual Income Years in current job  Tax Liens  \\\n",
       "0           Rent            NaN              4 years        0.0   \n",
       "1           Rent       231838.0               1 year        0.0   \n",
       "2  Home Mortgage      1152540.0              3 years        0.0   \n",
       "3  Home Mortgage      1220313.0            10+ years        0.0   \n",
       "4  Home Mortgage      2340952.0              6 years        0.0   \n",
       "\n",
       "   Number of Open Accounts  Years of Credit History  Maximum Open Credit  \\\n",
       "0                      9.0                     12.5             220968.0   \n",
       "1                      6.0                     32.7              55946.0   \n",
       "2                     10.0                     13.7             204600.0   \n",
       "3                     16.0                     17.0             456302.0   \n",
       "4                     11.0                     23.6            1207272.0   \n",
       "\n",
       "   Number of Credit Problems  Months since last delinquent  Bankruptcies  \\\n",
       "0                        0.0                          70.0           0.0   \n",
       "1                        0.0                           8.0           0.0   \n",
       "2                        0.0                           NaN           0.0   \n",
       "3                        0.0                          70.0           0.0   \n",
       "4                        0.0                           NaN           0.0   \n",
       "\n",
       "                Purpose        Term  Current Loan Amount  \\\n",
       "0    debt consolidation  Short Term             162470.0   \n",
       "1  educational expenses  Short Term              78298.0   \n",
       "2    debt consolidation  Short Term             200178.0   \n",
       "3    debt consolidation  Short Term             217382.0   \n",
       "4    debt consolidation   Long Term             777634.0   \n",
       "\n",
       "   Current Credit Balance  Monthly Debt  Credit Score  \n",
       "0                105906.0        6813.0           NaN  \n",
       "1                 46037.0        2318.0         699.0  \n",
       "2                146490.0       18729.0        7260.0  \n",
       "3                213199.0       27559.0         739.0  \n",
       "4                425391.0       42605.0         706.0  "
      ]
     },
     "execution_count": 44,
     "metadata": {},
     "output_type": "execute_result"
    }
   ],
   "source": [
    "df_test = pd.read_csv(TEST_DATASET_PATH)\n",
    "df_test.head()"
   ]
  },
  {
   "cell_type": "code",
   "execution_count": 45,
   "id": "ec920840",
   "metadata": {},
   "outputs": [
    {
     "name": "stdout",
     "output_type": "stream",
     "text": [
      "<class 'pandas.core.frame.DataFrame'>\n",
      "RangeIndex: 2500 entries, 0 to 2499\n",
      "Data columns (total 16 columns):\n",
      " #   Column                        Non-Null Count  Dtype  \n",
      "---  ------                        --------------  -----  \n",
      " 0   Home Ownership                2500 non-null   object \n",
      " 1   Annual Income                 1987 non-null   float64\n",
      " 2   Years in current job          2414 non-null   object \n",
      " 3   Tax Liens                     2500 non-null   float64\n",
      " 4   Number of Open Accounts       2500 non-null   float64\n",
      " 5   Years of Credit History       2500 non-null   float64\n",
      " 6   Maximum Open Credit           2500 non-null   float64\n",
      " 7   Number of Credit Problems     2500 non-null   float64\n",
      " 8   Months since last delinquent  1142 non-null   float64\n",
      " 9   Bankruptcies                  2497 non-null   float64\n",
      " 10  Purpose                       2500 non-null   object \n",
      " 11  Term                          2500 non-null   object \n",
      " 12  Current Loan Amount           2500 non-null   float64\n",
      " 13  Current Credit Balance        2500 non-null   float64\n",
      " 14  Monthly Debt                  2500 non-null   float64\n",
      " 15  Credit Score                  1987 non-null   float64\n",
      "dtypes: float64(12), object(4)\n",
      "memory usage: 892.3 KB\n"
     ]
    }
   ],
   "source": [
    "df_test.info(memory_usage='deep')"
   ]
  },
  {
   "cell_type": "code",
   "execution_count": 46,
   "id": "3ce20bf0",
   "metadata": {},
   "outputs": [],
   "source": [
    "# Добавляется признак has_delay, всем наблюдениям присваивается 1\n",
    "# df_test['has_delay'] = 1\n",
    "\n",
    "# Пропуски и выбросы\n",
    "df_test.loc[df_test['Annual Income'].isna(), 'Annual Income'] = df_test['Annual Income'].mode()[0]\n",
    "df_test.loc[df_test['Credit Score'].isna(), 'Credit Score'] = df_test['Credit Score'].mode()[0]\n",
    "df_test.loc[df_test['Years in current job'].isna(), 'Years in current job'] = df_test['Years in current job'].mode()[0]\n",
    "df_test.loc[df_test['Bankruptcies'].isna(), 'Bankruptcies'] = df_test['Bankruptcies'].mode()[0]\n",
    "df_test.loc[df_test['Months since last delinquent'].isna(), 'Months since last delinquent'] = 0"
   ]
  },
  {
   "cell_type": "code",
   "execution_count": 47,
   "id": "8ede6c3b",
   "metadata": {},
   "outputs": [
    {
     "name": "stdout",
     "output_type": "stream",
     "text": [
      "<class 'pandas.core.frame.DataFrame'>\n",
      "RangeIndex: 2500 entries, 0 to 2499\n",
      "Data columns (total 16 columns):\n",
      " #   Column                        Non-Null Count  Dtype  \n",
      "---  ------                        --------------  -----  \n",
      " 0   Home Ownership                2500 non-null   object \n",
      " 1   Annual Income                 2500 non-null   float64\n",
      " 2   Years in current job          2500 non-null   object \n",
      " 3   Tax Liens                     2500 non-null   float64\n",
      " 4   Number of Open Accounts       2500 non-null   float64\n",
      " 5   Years of Credit History       2500 non-null   float64\n",
      " 6   Maximum Open Credit           2500 non-null   float64\n",
      " 7   Number of Credit Problems     2500 non-null   float64\n",
      " 8   Months since last delinquent  2500 non-null   float64\n",
      " 9   Bankruptcies                  2500 non-null   float64\n",
      " 10  Purpose                       2500 non-null   object \n",
      " 11  Term                          2500 non-null   object \n",
      " 12  Current Loan Amount           2500 non-null   float64\n",
      " 13  Current Credit Balance        2500 non-null   float64\n",
      " 14  Monthly Debt                  2500 non-null   float64\n",
      " 15  Credit Score                  2500 non-null   float64\n",
      "dtypes: float64(12), object(4)\n",
      "memory usage: 895.2 KB\n"
     ]
    }
   ],
   "source": [
    "df_test.info(memory_usage='deep')"
   ]
  },
  {
   "cell_type": "code",
   "execution_count": 48,
   "id": "a547a86e",
   "metadata": {},
   "outputs": [],
   "source": [
    "df_test['Number of Open Accounts'] = (df_test['Number of Open Accounts']).astype(int)\n",
    "df_test['Number of Credit Problems'] = (df_test['Number of Credit Problems']).astype(int)"
   ]
  },
  {
   "cell_type": "code",
   "execution_count": 49,
   "id": "1675678a",
   "metadata": {},
   "outputs": [
    {
     "name": "stdout",
     "output_type": "stream",
     "text": [
      "<class 'pandas.core.frame.DataFrame'>\n",
      "RangeIndex: 2500 entries, 0 to 2499\n",
      "Data columns (total 16 columns):\n",
      " #   Column                        Non-Null Count  Dtype  \n",
      "---  ------                        --------------  -----  \n",
      " 0   Home Ownership                2500 non-null   object \n",
      " 1   Annual Income                 2500 non-null   float64\n",
      " 2   Years in current job          2500 non-null   object \n",
      " 3   Tax Liens                     2500 non-null   float64\n",
      " 4   Number of Open Accounts       2500 non-null   int32  \n",
      " 5   Years of Credit History       2500 non-null   float64\n",
      " 6   Maximum Open Credit           2500 non-null   float64\n",
      " 7   Number of Credit Problems     2500 non-null   int32  \n",
      " 8   Months since last delinquent  2500 non-null   float64\n",
      " 9   Bankruptcies                  2500 non-null   float64\n",
      " 10  Purpose                       2500 non-null   object \n",
      " 11  Term                          2500 non-null   object \n",
      " 12  Current Loan Amount           2500 non-null   float64\n",
      " 13  Current Credit Balance        2500 non-null   float64\n",
      " 14  Monthly Debt                  2500 non-null   float64\n",
      " 15  Credit Score                  2500 non-null   float64\n",
      "dtypes: float64(10), int32(2), object(4)\n",
      "memory usage: 875.7 KB\n"
     ]
    }
   ],
   "source": [
    "df_test.info(memory_usage='deep')"
   ]
  },
  {
   "cell_type": "code",
   "execution_count": 50,
   "id": "0e328ff8",
   "metadata": {},
   "outputs": [],
   "source": [
    "median_current_loan_amount = df_test['Current Loan Amount'].median()\n",
    "df_test.loc[(df_test['Current Loan Amount'] == 99999999.0), 'Current Loan Amount'] = median_current_loan_amount"
   ]
  },
  {
   "cell_type": "code",
   "execution_count": 51,
   "id": "cd496dbe",
   "metadata": {},
   "outputs": [],
   "source": [
    "df_test['Years_In_Current_Job_cat'] = df_test['Years in current job'].replace({'< 1 year':'0', '1 year':'1', '2 years':'1', \n",
    "                                                                               '3 years':'1', '4 years':'1', '5 years':'1',\n",
    "                                                                               '6 years':'2', '7 years':'2', '8 years':'2',\n",
    "                                                                               '9 years':'2', '10 years':'2', '10+ years':'3'})\n",
    "df_test['Bankruptcies_cat'] = df_test['Bankruptcies'].replace({0:'0', 1:'1', 2:'1', 3:'1', 4:'1'})\n",
    "df_test['Home_Ownership_cat'] = df_test['Home Ownership'].replace({'Home Mortgage':'0', 'Have Mortgage':'0', 'Rent':'1', 'Own Home':'2'})"
   ]
  },
  {
   "cell_type": "code",
   "execution_count": 52,
   "id": "f48282b7",
   "metadata": {},
   "outputs": [
    {
     "name": "stdout",
     "output_type": "stream",
     "text": [
      "<class 'pandas.core.frame.DataFrame'>\n",
      "RangeIndex: 2500 entries, 0 to 2499\n",
      "Data columns (total 19 columns):\n",
      " #   Column                        Non-Null Count  Dtype  \n",
      "---  ------                        --------------  -----  \n",
      " 0   Home Ownership                2500 non-null   object \n",
      " 1   Annual Income                 2500 non-null   float64\n",
      " 2   Years in current job          2500 non-null   object \n",
      " 3   Tax Liens                     2500 non-null   float64\n",
      " 4   Number of Open Accounts       2500 non-null   int32  \n",
      " 5   Years of Credit History       2500 non-null   float64\n",
      " 6   Maximum Open Credit           2500 non-null   float64\n",
      " 7   Number of Credit Problems     2500 non-null   int32  \n",
      " 8   Months since last delinquent  2500 non-null   float64\n",
      " 9   Bankruptcies                  2500 non-null   float64\n",
      " 10  Purpose                       2500 non-null   object \n",
      " 11  Term                          2500 non-null   object \n",
      " 12  Current Loan Amount           2500 non-null   float64\n",
      " 13  Current Credit Balance        2500 non-null   float64\n",
      " 14  Monthly Debt                  2500 non-null   float64\n",
      " 15  Credit Score                  2500 non-null   float64\n",
      " 16  Years_In_Current_Job_cat      2500 non-null   object \n",
      " 17  Bankruptcies_cat              2500 non-null   object \n",
      " 18  Home_Ownership_cat            2500 non-null   object \n",
      "dtypes: float64(10), int32(2), object(7)\n",
      "memory usage: 1.3 MB\n"
     ]
    }
   ],
   "source": [
    "df_test.info(memory_usage='deep')"
   ]
  },
  {
   "cell_type": "code",
   "execution_count": 53,
   "id": "62fe1179",
   "metadata": {},
   "outputs": [],
   "source": [
    "df_test.drop(['Home Ownership', 'Years in current job', 'Bankruptcies'], axis=1, inplace=True)"
   ]
  },
  {
   "cell_type": "code",
   "execution_count": 54,
   "id": "b7d2d623",
   "metadata": {},
   "outputs": [],
   "source": [
    "for cat_colname in df_test.select_dtypes(include='object').columns[1:]:\n",
    "    df_test = pd.concat([df_test, pd.get_dummies(df_test[cat_colname], prefix=cat_colname)], axis=1)"
   ]
  },
  {
   "cell_type": "code",
   "execution_count": 55,
   "id": "1ce57f3c",
   "metadata": {},
   "outputs": [
    {
     "name": "stdout",
     "output_type": "stream",
     "text": [
      "<class 'pandas.core.frame.DataFrame'>\n",
      "RangeIndex: 2500 entries, 0 to 2499\n",
      "Data columns (total 28 columns):\n",
      " #   Column                        Non-Null Count  Dtype  \n",
      "---  ------                        --------------  -----  \n",
      " 0   Annual Income                 2500 non-null   float64\n",
      " 1   Tax Liens                     2500 non-null   float64\n",
      " 2   Number of Open Accounts       2500 non-null   int32  \n",
      " 3   Years of Credit History       2500 non-null   float64\n",
      " 4   Maximum Open Credit           2500 non-null   float64\n",
      " 5   Number of Credit Problems     2500 non-null   int32  \n",
      " 6   Months since last delinquent  2500 non-null   float64\n",
      " 7   Purpose                       2500 non-null   object \n",
      " 8   Term                          2500 non-null   object \n",
      " 9   Current Loan Amount           2500 non-null   float64\n",
      " 10  Current Credit Balance        2500 non-null   float64\n",
      " 11  Monthly Debt                  2500 non-null   float64\n",
      " 12  Credit Score                  2500 non-null   float64\n",
      " 13  Years_In_Current_Job_cat      2500 non-null   object \n",
      " 14  Bankruptcies_cat              2500 non-null   object \n",
      " 15  Home_Ownership_cat            2500 non-null   object \n",
      " 16  Term_Long Term                2500 non-null   uint8  \n",
      " 17  Term_Short Term               2500 non-null   uint8  \n",
      " 18  Years_In_Current_Job_cat_0    2500 non-null   uint8  \n",
      " 19  Years_In_Current_Job_cat_1    2500 non-null   uint8  \n",
      " 20  Years_In_Current_Job_cat_2    2500 non-null   uint8  \n",
      " 21  Years_In_Current_Job_cat_3    2500 non-null   uint8  \n",
      " 22  Bankruptcies_cat_5.0          2500 non-null   uint8  \n",
      " 23  Bankruptcies_cat_0            2500 non-null   uint8  \n",
      " 24  Bankruptcies_cat_1            2500 non-null   uint8  \n",
      " 25  Home_Ownership_cat_0          2500 non-null   uint8  \n",
      " 26  Home_Ownership_cat_1          2500 non-null   uint8  \n",
      " 27  Home_Ownership_cat_2          2500 non-null   uint8  \n",
      "dtypes: float64(9), int32(2), object(5), uint8(12)\n",
      "memory usage: 991.4 KB\n"
     ]
    }
   ],
   "source": [
    "df_test.info(memory_usage='deep')"
   ]
  },
  {
   "cell_type": "code",
   "execution_count": 56,
   "id": "4314578a",
   "metadata": {},
   "outputs": [],
   "source": [
    "df_test.drop(['Years_In_Current_Job_cat', 'Home_Ownership_cat', 'Bankruptcies_cat', 'Term', 'Purpose'], axis=1, inplace=True)"
   ]
  },
  {
   "cell_type": "code",
   "execution_count": 57,
   "id": "feda7fc6",
   "metadata": {},
   "outputs": [],
   "source": [
    "from sklearn import preprocessing"
   ]
  },
  {
   "cell_type": "code",
   "execution_count": 58,
   "id": "b5697f8e",
   "metadata": {},
   "outputs": [],
   "source": [
    "col_feature_names = ['Annual Income', 'Tax Liens', 'Number of Open Accounts', 'Years of Credit History',\n",
    "                     'Maximum Open Credit', 'Number of Credit Problems', 'Months since last delinquent', \n",
    "                     'Current Loan Amount', 'Current Credit Balance', 'Monthly Debt', 'Credit Score']"
   ]
  },
  {
   "cell_type": "code",
   "execution_count": 59,
   "id": "58003685",
   "metadata": {},
   "outputs": [],
   "source": [
    "scaler = preprocessing.StandardScaler()\n",
    "\n",
    "df_norm_test = df_test.copy()\n",
    "df_norm_test[col_feature_names] = scaler.fit_transform(df_norm_test[col_feature_names])\n",
    "\n",
    "df_test = df_norm_test.copy()"
   ]
  },
  {
   "cell_type": "code",
   "execution_count": 60,
   "id": "c98656ca",
   "metadata": {},
   "outputs": [],
   "source": [
    "df_test.to_csv(PREP_TEST, index=False, encoding='utf-8')"
   ]
  },
  {
   "cell_type": "code",
   "execution_count": 61,
   "id": "e78fbec6",
   "metadata": {},
   "outputs": [
    {
     "data": {
      "text/html": [
       "<div>\n",
       "<style scoped>\n",
       "    .dataframe tbody tr th:only-of-type {\n",
       "        vertical-align: middle;\n",
       "    }\n",
       "\n",
       "    .dataframe tbody tr th {\n",
       "        vertical-align: top;\n",
       "    }\n",
       "\n",
       "    .dataframe thead th {\n",
       "        text-align: right;\n",
       "    }\n",
       "</style>\n",
       "<table border=\"1\" class=\"dataframe\">\n",
       "  <thead>\n",
       "    <tr style=\"text-align: right;\">\n",
       "      <th></th>\n",
       "      <th>Annual Income</th>\n",
       "      <th>Tax Liens</th>\n",
       "      <th>Number of Open Accounts</th>\n",
       "      <th>Years of Credit History</th>\n",
       "      <th>Maximum Open Credit</th>\n",
       "      <th>Number of Credit Problems</th>\n",
       "      <th>Months since last delinquent</th>\n",
       "      <th>Current Loan Amount</th>\n",
       "      <th>Current Credit Balance</th>\n",
       "      <th>Monthly Debt</th>\n",
       "      <th>...</th>\n",
       "      <th>Years_In_Current_Job_cat_0</th>\n",
       "      <th>Years_In_Current_Job_cat_1</th>\n",
       "      <th>Years_In_Current_Job_cat_2</th>\n",
       "      <th>Years_In_Current_Job_cat_3</th>\n",
       "      <th>Bankruptcies_cat_5.0</th>\n",
       "      <th>Bankruptcies_cat_0</th>\n",
       "      <th>Bankruptcies_cat_1</th>\n",
       "      <th>Home_Ownership_cat_0</th>\n",
       "      <th>Home_Ownership_cat_1</th>\n",
       "      <th>Home_Ownership_cat_2</th>\n",
       "    </tr>\n",
       "  </thead>\n",
       "  <tbody>\n",
       "    <tr>\n",
       "      <th>0</th>\n",
       "      <td>-0.327678</td>\n",
       "      <td>-0.091141</td>\n",
       "      <td>-0.450224</td>\n",
       "      <td>-0.803220</td>\n",
       "      <td>-0.323879</td>\n",
       "      <td>-0.289398</td>\n",
       "      <td>2.405202</td>\n",
       "      <td>-0.883841</td>\n",
       "      <td>-0.503642</td>\n",
       "      <td>-0.992788</td>\n",
       "      <td>...</td>\n",
       "      <td>0</td>\n",
       "      <td>1</td>\n",
       "      <td>0</td>\n",
       "      <td>0</td>\n",
       "      <td>0</td>\n",
       "      <td>1</td>\n",
       "      <td>0</td>\n",
       "      <td>0</td>\n",
       "      <td>1</td>\n",
       "      <td>0</td>\n",
       "    </tr>\n",
       "    <tr>\n",
       "      <th>1</th>\n",
       "      <td>-1.284626</td>\n",
       "      <td>-0.091141</td>\n",
       "      <td>-1.068551</td>\n",
       "      <td>1.981755</td>\n",
       "      <td>-0.433044</td>\n",
       "      <td>-0.289398</td>\n",
       "      <td>-0.336726</td>\n",
       "      <td>-1.374743</td>\n",
       "      <td>-0.661931</td>\n",
       "      <td>-1.382250</td>\n",
       "      <td>...</td>\n",
       "      <td>0</td>\n",
       "      <td>1</td>\n",
       "      <td>0</td>\n",
       "      <td>0</td>\n",
       "      <td>0</td>\n",
       "      <td>1</td>\n",
       "      <td>0</td>\n",
       "      <td>0</td>\n",
       "      <td>1</td>\n",
       "      <td>0</td>\n",
       "    </tr>\n",
       "    <tr>\n",
       "      <th>2</th>\n",
       "      <td>-0.174004</td>\n",
       "      <td>-0.091141</td>\n",
       "      <td>-0.244115</td>\n",
       "      <td>-0.637776</td>\n",
       "      <td>-0.334707</td>\n",
       "      <td>-0.289398</td>\n",
       "      <td>-0.690524</td>\n",
       "      <td>-0.663923</td>\n",
       "      <td>-0.396341</td>\n",
       "      <td>0.039653</td>\n",
       "      <td>...</td>\n",
       "      <td>0</td>\n",
       "      <td>1</td>\n",
       "      <td>0</td>\n",
       "      <td>0</td>\n",
       "      <td>0</td>\n",
       "      <td>1</td>\n",
       "      <td>0</td>\n",
       "      <td>1</td>\n",
       "      <td>0</td>\n",
       "      <td>0</td>\n",
       "    </tr>\n",
       "    <tr>\n",
       "      <th>3</th>\n",
       "      <td>-0.092251</td>\n",
       "      <td>-0.091141</td>\n",
       "      <td>0.992538</td>\n",
       "      <td>-0.182805</td>\n",
       "      <td>-0.168202</td>\n",
       "      <td>-0.289398</td>\n",
       "      <td>2.405202</td>\n",
       "      <td>-0.563587</td>\n",
       "      <td>-0.219968</td>\n",
       "      <td>0.804714</td>\n",
       "      <td>...</td>\n",
       "      <td>0</td>\n",
       "      <td>0</td>\n",
       "      <td>0</td>\n",
       "      <td>1</td>\n",
       "      <td>0</td>\n",
       "      <td>1</td>\n",
       "      <td>0</td>\n",
       "      <td>1</td>\n",
       "      <td>0</td>\n",
       "      <td>0</td>\n",
       "    </tr>\n",
       "    <tr>\n",
       "      <th>4</th>\n",
       "      <td>1.259550</td>\n",
       "      <td>-0.091141</td>\n",
       "      <td>-0.038006</td>\n",
       "      <td>0.727138</td>\n",
       "      <td>0.328576</td>\n",
       "      <td>-0.289398</td>\n",
       "      <td>-0.690524</td>\n",
       "      <td>2.703877</td>\n",
       "      <td>0.341051</td>\n",
       "      <td>2.108349</td>\n",
       "      <td>...</td>\n",
       "      <td>0</td>\n",
       "      <td>0</td>\n",
       "      <td>1</td>\n",
       "      <td>0</td>\n",
       "      <td>0</td>\n",
       "      <td>1</td>\n",
       "      <td>0</td>\n",
       "      <td>1</td>\n",
       "      <td>0</td>\n",
       "      <td>0</td>\n",
       "    </tr>\n",
       "  </tbody>\n",
       "</table>\n",
       "<p>5 rows × 23 columns</p>\n",
       "</div>"
      ],
      "text/plain": [
       "   Annual Income  Tax Liens  Number of Open Accounts  Years of Credit History  \\\n",
       "0      -0.327678  -0.091141                -0.450224                -0.803220   \n",
       "1      -1.284626  -0.091141                -1.068551                 1.981755   \n",
       "2      -0.174004  -0.091141                -0.244115                -0.637776   \n",
       "3      -0.092251  -0.091141                 0.992538                -0.182805   \n",
       "4       1.259550  -0.091141                -0.038006                 0.727138   \n",
       "\n",
       "   Maximum Open Credit  Number of Credit Problems  \\\n",
       "0            -0.323879                  -0.289398   \n",
       "1            -0.433044                  -0.289398   \n",
       "2            -0.334707                  -0.289398   \n",
       "3            -0.168202                  -0.289398   \n",
       "4             0.328576                  -0.289398   \n",
       "\n",
       "   Months since last delinquent  Current Loan Amount  Current Credit Balance  \\\n",
       "0                      2.405202            -0.883841               -0.503642   \n",
       "1                     -0.336726            -1.374743               -0.661931   \n",
       "2                     -0.690524            -0.663923               -0.396341   \n",
       "3                      2.405202            -0.563587               -0.219968   \n",
       "4                     -0.690524             2.703877                0.341051   \n",
       "\n",
       "   Monthly Debt  ...  Years_In_Current_Job_cat_0  Years_In_Current_Job_cat_1  \\\n",
       "0     -0.992788  ...                           0                           1   \n",
       "1     -1.382250  ...                           0                           1   \n",
       "2      0.039653  ...                           0                           1   \n",
       "3      0.804714  ...                           0                           0   \n",
       "4      2.108349  ...                           0                           0   \n",
       "\n",
       "   Years_In_Current_Job_cat_2  Years_In_Current_Job_cat_3  \\\n",
       "0                           0                           0   \n",
       "1                           0                           0   \n",
       "2                           0                           0   \n",
       "3                           0                           1   \n",
       "4                           1                           0   \n",
       "\n",
       "   Bankruptcies_cat_5.0  Bankruptcies_cat_0  Bankruptcies_cat_1  \\\n",
       "0                     0                   1                   0   \n",
       "1                     0                   1                   0   \n",
       "2                     0                   1                   0   \n",
       "3                     0                   1                   0   \n",
       "4                     0                   1                   0   \n",
       "\n",
       "   Home_Ownership_cat_0  Home_Ownership_cat_1  Home_Ownership_cat_2  \n",
       "0                     0                     1                     0  \n",
       "1                     0                     1                     0  \n",
       "2                     1                     0                     0  \n",
       "3                     1                     0                     0  \n",
       "4                     1                     0                     0  \n",
       "\n",
       "[5 rows x 23 columns]"
      ]
     },
     "execution_count": 61,
     "metadata": {},
     "output_type": "execute_result"
    }
   ],
   "source": [
    "df_test.head()"
   ]
  },
  {
   "cell_type": "code",
   "execution_count": 62,
   "id": "42920e17",
   "metadata": {},
   "outputs": [],
   "source": [
    "y_pred_output = final_model.predict(df_test)"
   ]
  },
  {
   "cell_type": "code",
   "execution_count": 64,
   "id": "0543b95f",
   "metadata": {},
   "outputs": [
    {
     "data": {
      "text/plain": [
       "(2500,)"
      ]
     },
     "execution_count": 64,
     "metadata": {},
     "output_type": "execute_result"
    }
   ],
   "source": [
    "y_pred_output.shape"
   ]
  },
  {
   "cell_type": "code",
   "execution_count": 65,
   "id": "37436310",
   "metadata": {},
   "outputs": [],
   "source": [
    "result=pd.DataFrame({'Id':np.arange(2500), 'Credit Default': y_pred_output})"
   ]
  },
  {
   "cell_type": "code",
   "execution_count": 66,
   "id": "404495ee",
   "metadata": {},
   "outputs": [],
   "source": [
    "result.to_csv(PREP_TEST, index=False)"
   ]
  },
  {
   "cell_type": "code",
   "execution_count": null,
   "id": "2b7499aa",
   "metadata": {},
   "outputs": [],
   "source": []
  }
 ],
 "metadata": {
  "kernelspec": {
   "display_name": "Python 3 (ipykernel)",
   "language": "python",
   "name": "python3"
  },
  "language_info": {
   "codemirror_mode": {
    "name": "ipython",
    "version": 3
   },
   "file_extension": ".py",
   "mimetype": "text/x-python",
   "name": "python",
   "nbconvert_exporter": "python",
   "pygments_lexer": "ipython3",
   "version": "3.9.7"
  }
 },
 "nbformat": 4,
 "nbformat_minor": 5
}
